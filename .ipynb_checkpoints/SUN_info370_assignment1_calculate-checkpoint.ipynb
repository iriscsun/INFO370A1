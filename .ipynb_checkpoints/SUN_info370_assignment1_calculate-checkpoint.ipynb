{
 "cells": [
  {
   "cell_type": "code",
   "execution_count": 11,
   "metadata": {
    "collapsed": true
   },
   "outputs": [],
   "source": []
  },
  {
   "cell_type": "code",
   "execution_count": 18,
   "metadata": {
    "collapsed": true
   },
   "outputs": [],
   "source": [
    "#calculates the top 10 most frequently occurring ingredients in the scraped recipes\n",
    "def calculate():\n",
    "    df = pd.read_csv('SUN_info370_assignment1_cleanData.csv', index_col=0)\n",
    "   \n",
    "    #splits the ingredient column in the dataframe (df) into individual words, then stores in list food\n",
    "    food = []\n",
    "    for ingredient in df['ingredient']:\n",
    "        food += ingredient.split()\n",
    "    \n",
    "    #calculates the frequency of each word that appears in the list food\n",
    "    food = pd.Series(food)\n",
    "    count = food.value_counts()[0:11].tolist()\n",
    "\n",
    "    #top 10 words by frequency amount\n",
    "    words = food.value_counts().index.tolist()[0:11]\n",
    "    \n",
    "    #adds each recipe in the clean csv to set in order to remove duplicates\n",
    "    recipeNames = set()\n",
    "    for name in df['name']:\n",
    "        recipeNames.add(name)\n",
    "\n",
    "    #total number of recipes in the clean csv\n",
    "    numRecipes = len(recipeNames)\n",
    "    \n",
    "    #calculates the number/proportion of recipes each word appears in for each of top 10 words\n",
    "    proportion = []\n",
    "\n",
    "    #loop through each word in the list of top 10 most frequently appearing words\n",
    "    for word in words:\n",
    "        recipes = set()\n",
    "        \n",
    "        #loops through each word in \n",
    "        for index, item in enumerate(df['ingredient']):\n",
    "            temp = item.split()\n",
    "            if word in temp:\n",
    "                recipes.add(df.iloc[index]['name'])\n",
    "        #adds proportion of recipes that the current top ten word appears in\n",
    "        proportion.append('%.2f' % (len(recipes)/numRecipes)) \n",
    "     \n",
    "    #creates dataframe from the list of top 10 words, their frequency count, and proportion of recipes they appear in\n",
    "    calculatedData = pd.DataFrame(\n",
    "        {'word': words,\n",
    "         'count': count,\n",
    "         'proportion': proportion\n",
    "        })\n",
    "    \n",
    "    #exports cleaned data to csv\n",
    "    calculatedData.to_csv('SUN_info370_assignment1_calculate.csv')"
   ]
  },
  {
   "cell_type": "code",
   "execution_count": null,
   "metadata": {},
   "outputs": [],
   "source": []
  },
  {
   "cell_type": "markdown",
   "metadata": {
    "collapsed": true
   },
   "source": []
  },
  {
   "cell_type": "code",
   "execution_count": null,
   "metadata": {
    "collapsed": true
   },
   "outputs": [],
   "source": []
  },
  {
   "cell_type": "code",
   "execution_count": null,
   "metadata": {
    "collapsed": true
   },
   "outputs": [],
   "source": []
  },
  {
   "cell_type": "code",
   "execution_count": null,
   "metadata": {
    "collapsed": true
   },
   "outputs": [],
   "source": []
  },
  {
   "cell_type": "code",
   "execution_count": null,
   "metadata": {
    "collapsed": true
   },
   "outputs": [],
   "source": []
  },
  {
   "cell_type": "code",
   "execution_count": null,
   "metadata": {
    "collapsed": true
   },
   "outputs": [],
   "source": []
  },
  {
   "cell_type": "code",
   "execution_count": null,
   "metadata": {
    "collapsed": true
   },
   "outputs": [],
   "source": []
  },
  {
   "cell_type": "code",
   "execution_count": null,
   "metadata": {
    "collapsed": true
   },
   "outputs": [],
   "source": []
  },
  {
   "cell_type": "code",
   "execution_count": null,
   "metadata": {
    "collapsed": true
   },
   "outputs": [],
   "source": []
  }
 ],
 "metadata": {
  "kernelspec": {
   "display_name": "Python 3",
   "language": "python",
   "name": "python3"
  },
  "language_info": {
   "codemirror_mode": {
    "name": "ipython",
    "version": 3
   },
   "file_extension": ".py",
   "mimetype": "text/x-python",
   "name": "python",
   "nbconvert_exporter": "python",
   "pygments_lexer": "ipython3",
   "version": "3.6.1"
  }
 },
 "nbformat": 4,
 "nbformat_minor": 2
}
