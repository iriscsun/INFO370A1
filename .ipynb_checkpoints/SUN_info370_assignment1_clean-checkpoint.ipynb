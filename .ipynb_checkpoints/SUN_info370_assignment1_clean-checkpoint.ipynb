{
 "cells": [
  {
   "cell_type": "code",
   "execution_count": 39,
   "metadata": {
    "collapsed": true
   },
   "outputs": [],
   "source": [
    "import pandas as pd\n",
    "import re"
   ]
  },
  {
   "cell_type": "code",
   "execution_count": null,
   "metadata": {},
   "outputs": [],
   "source": [
    "df = pd.read_csv('SUN_info370_assignment1_rawData.csv', index_col=0)"
   ]
  },
  {
   "cell_type": "code",
   "execution_count": null,
   "metadata": {},
   "outputs": [],
   "source": [
    "print(df)"
   ]
  },
  {
   "cell_type": "code",
   "execution_count": null,
   "metadata": {},
   "outputs": [],
   "source": [
    "#removing rows without valid ingredients\n",
    "df = df[df['ingredient'].str.len() > 3]\n",
    "\n",
    "for ingredient in df['url']:\n",
    "    #removes all words after a comma\n",
    "    df['ingredient'][ingredient] = ingredient.split(',', 1)[0]\n",
    "\n",
    "    #removes the word '(optional)' which appears next to some ingredients\n",
    "    df['ingredient'][ingredient] = ingredient.split('(', 1)[0]\n",
    "\n",
    "#cleaning ingredient column by removing measurements and numbers\n",
    "pattern = re.compile(\"\\\\b(Â|ounce|oz|ounces|pound|pounds|tablespoon|tablespoons|½|teaspoon|to|teaspoons|cup|cups|\\d+)\\\\W\", re.I)\n",
    "df['ingredient'] = [pattern.sub(\"\", ingredient).strip() for ingredient in df['ingredient']]\n",
    "\n",
    "\n"
   ]
  },
  {
   "cell_type": "code",
   "execution_count": null,
   "metadata": {},
   "outputs": [],
   "source": [
    "print(df)"
   ]
  },
  {
   "cell_type": "code",
   "execution_count": 14,
   "metadata": {
    "collapsed": true
   },
   "outputs": [],
   "source": [
    "df.to_csv('SUN_info370_assignment1_cleanData.csv')"
   ]
  },
  {
   "cell_type": "code",
   "execution_count": null,
   "metadata": {
    "collapsed": true
   },
   "outputs": [],
   "source": []
  }
 ],
 "metadata": {
  "kernelspec": {
   "display_name": "Python 3",
   "language": "python",
   "name": "python3"
  },
  "language_info": {
   "codemirror_mode": {
    "name": "ipython",
    "version": 3
   },
   "file_extension": ".py",
   "mimetype": "text/x-python",
   "name": "python",
   "nbconvert_exporter": "python",
   "pygments_lexer": "ipython3",
   "version": "3.6.1"
  }
 },
 "nbformat": 4,
 "nbformat_minor": 2
}
