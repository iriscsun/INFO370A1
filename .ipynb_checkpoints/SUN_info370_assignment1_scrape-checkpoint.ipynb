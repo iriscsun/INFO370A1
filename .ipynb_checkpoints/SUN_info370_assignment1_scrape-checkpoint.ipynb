{
 "cells": [
  {
   "cell_type": "code",
   "execution_count": 37,
   "metadata": {
    "collapsed": true
   },
   "outputs": [],
   "source": [
    "import urllib.request\n",
    "import urllib\n",
    "import pandas as pd\n",
    "import re\n",
    "from bs4 import BeautifulSoup"
   ]
  },
  {
   "cell_type": "code",
   "execution_count": 11,
   "metadata": {
    "collapsed": true
   },
   "outputs": [],
   "source": [
    "urlMain = 'http://www.beefitswhatsfordinner.com'\n",
    "urlRC =  'http://www.beefitswhatsfordinner.com/recipes/collection'\n",
    "recipeList = []\n",
    "\n"
   ]
  },
  {
   "cell_type": "code",
   "execution_count": 12,
   "metadata": {
    "collapsed": true
   },
   "outputs": [],
   "source": [
    "recipeCollection = [urlRC + '/10002/grilling-favorites',\n",
    "                    urlRC + '/10008/not-your-average-salad',\n",
    "                    urlRC + '/10009/30-minutes-or-less',\n",
    "                    urlRC + '/10011/appetizers-worth-sharing',\n",
    "                    urlRC + '/10014/flavor-boosting-rubs-marinades',\n",
    "                    urlRC + '/10018/well-balanced-meals',\n",
    "                    urlRC + '/10030/tailgating-treasures',\n",
    "                    urlRC + '/10032/slow-cooker-comforts',\n",
    "                    urlRC + '/10033/so-long-leftovers',\n",
    "                    urlRC + '/10034/recipes-for-a-crowd',\n",
    "                    urlRC + '/10039/the-tastiest-burgers',\n",
    "                    urlRC + '/10044/savory-stir-fry',\n",
    "                    urlRC + '/10045/meals-in-the-skillet',\n",
    "                    urlRC + '/10049/more-soup-for-you',\n",
    "                    urlRC + '/10052/from-the-deli',\n",
    "                    urlRC + '/10058/kid-friendly-fare',\n",
    "                    urlRC + '/10061/gotta-try-beef-chilis']"
   ]
  },
  {
   "cell_type": "code",
   "execution_count": 13,
   "metadata": {},
   "outputs": [],
   "source": [
    "for page in recipeCollection:\n",
    "    with urllib.request.urlopen(page) as url:\n",
    "        page = url.read()  \n",
    "        parsed_page = BeautifulSoup(page, 'lxml')\n",
    "        menu_box = parsed_page.findAll('div', attrs={'class': 'col-sm-4 col-md-6 recipe-img'})\n",
    "        for div in menu_box:\n",
    "            links = div.findAll('a')\n",
    "            for a in links:\n",
    "                try:\n",
    "                    recipeList.append(urlMain + a['href'])\n",
    "                except KeyError:\n",
    "                    pass"
   ]
  },
  {
   "cell_type": "code",
   "execution_count": 14,
   "metadata": {
    "collapsed": true
   },
   "outputs": [],
   "source": [
    "len(recipeList)\n",
    "test = recipeList[0:30]\n",
    "test2 = recipeList[0:2]\n"
   ]
  },
  {
   "cell_type": "code",
   "execution_count": 34,
   "metadata": {},
   "outputs": [],
   "source": [
    "ingredientList = []\n",
    "recipeName = []\n",
    "recipeURL = []\n",
    "\n",
    "#scrapes each link which contains a recipe for ingredients and recipe name\n",
    "for link in test2:\n",
    "    with urllib.request.urlopen(link) as url:\n",
    "        page = url.read()  \n",
    "        parsed_page = BeautifulSoup(page, 'lxml')\n",
    "        name = ''\n",
    "        \n",
    "        #grabs the title of the current recipe\n",
    "        menu_title = parsed_page.findAll('li', attrs={'class': 'current'})\n",
    "        for div in menu_title:\n",
    "            name = div.text.strip()\n",
    "            \n",
    "        #grabs all of the ingredients in the current recipe\n",
    "        menu_box = parsed_page.findAll('li', attrs={'itemprop': 'ingredients'})\n",
    "        for div in menu_box:\n",
    "            \n",
    "            #removes all words after a comma\n",
    "            item = div.text.strip().split(',', 1)[0]\n",
    "            \n",
    "            #removes the word '(optional)' which appears next to some ingredients\n",
    "            item = item.split('(', 1)[0]\n",
    "            \n",
    "            #add url, recipe, and ingredient to their corresponding list\n",
    "            ingredientList.append(item)\n",
    "            recipeURL.append(link)\n",
    "            recipeName.append(name)\n",
    "        \n",
    "       "
   ]
  },
  {
   "cell_type": "code",
   "execution_count": 40,
   "metadata": {},
   "outputs": [],
   "source": [
    "rawData = pd.DataFrame(\n",
    "    {'url': recipeURL,\n",
    "     'name': recipeName,\n",
    "     'ingredient': ingredientList\n",
    "    })\n",
    "\n",
    "rawData.to_csv('SUN_info370_assignment1_rawData.csv')"
   ]
  },
  {
   "cell_type": "code",
   "execution_count": 19,
   "metadata": {},
   "outputs": [
    {
     "name": "stdout",
     "output_type": "stream",
     "text": [
      "['beef Strip Steaks Boneless', 'medium mushrooms', ' medium red onion', 'olive oil', ' lemon wedges', 'crumbled feta cheese ', 'Salt', ' large cloves garlic', 'lemon pepper', 'dried oregano', 'beef T-Bone or Porterhouse Steaks', 'Salt', 'chili powder', 'packed brown sugar', 'ground cumin', 'minced garlic', 'cider vinegar', 'Worcestershire sauce', 'ground red pepper', 'Ground Beef', 'sesame seed sandwich rolls', 'watercress or mixed spring greens', 'curry powder', 'Caribbean jerk seasoning', 'salt', 'reduced-fat mayonnaise', 'low-fat plain yogurt', 'fresh lime juice', 'grated lime peel', 'salt', 'beef Flank Steak ', 'Salt & pepper', 'balsamic vinegar', 'olive oil', 'chopped fresh basil', 'Dijon-style mustard', 'clove garlic', 'sugar', 'Ground Beef', 'large sweet onion', 'Vegetable oil', 'Salt and pepper', 'hamburger buns', 'Lettuce leaves', 'Tomato slices', 'Ground Beef ', 'chopped fresh parsley', 'salt', '  pepper', 'large portobello mushrooms', 'slices  French bread', ' goat cheese ', 'romaine lettuce leaves', 'Chopped fresh parsley ', 'olive oil', 'minced shallots', 'Merlot or other dry red wine', ' ready-serve beef broth', ' fresh thyme', 'butter', ' all-purpose flour', 'salt', 'pepper', 'beef Back Ribs', 'vegetable oil', 'finely chopped onion', 'minced garlic', 'crushed red pepper flakes', 'chili sauce', 'water', 'fresh lemon juice', 'salt', 'beef Ribeye Steaks Boneless', 'minced garlic', 'chopped fresh thyme', 'pepper', 'medium portobello mushrooms', 'olive oil', 'Salt', 'Chopped fresh parsley ', 'crumbled blue cheese', 'butter', 'chopped rehydrated sun-dried tomatoes', 'chopped fresh parsley', 'beef Strip Steaks Boneless', 'Salt', 'chopped fresh thyme', 'chopped fresh oregano', 'freshly grated lemon peel', 'cloves garlic', 'pepper', 'beef Strip Filets', 'cloves garlic', 'packed fresh cilantro', 'packed fresh parsley', 'olive oil', 'fresh lemon juice', 'salt', 'freshly grated lemon peel', 'crushed red pepper', ' Ground Beef', ' package ', 'coarsely crushed tortilla chips', ' shredded Cheddar cheese', 'medium  tomato', ' package ', '', 'Sliced ripe olives', 'beef Top Round Steak', ' olive oil', ' asparagus pieces ', 'medium  yellow squash', 'hot cooked brown rice', ' diced', ' canned garbanzo beans', 'fresh basil', 'salt', 'olive oil', ' fresh lemon juice', ' minced garlic', 'honey', ' fresh thyme', ' salt', 'black pepper', ' beef Tenderloin Steaks', ' coarse grind black pepper', 'package ', 'medium  red or green pear', 'dried cranberries', 'Salt', 'coarsely chopped pecans', ' crumbled goat cheese ', 'prepared honey mustard', 'water', 'olive oil', 'white wine vinegar', ' coarse grind black pepper', 'salt', ' beef Top Round Steak', ' prepared lowfat vinaigrette', ' fresh sugar snap peas', ' cooked barley', ' yellow and red grape or teardrop tomatoes', 'cloves  garlic', ' pepper', ' prepared lowfat vinaigrette', ' chopped fresh parsley', ' grated lemon peel', ' pepper', 'beef Top Sirloin Steak boneless or Top Round Steak', 'plus stir-fry sauce and marinade', 'rice paper wrappers ', 'shredded carrots', 'lightly packed fresh cilantro', 'Additional prepared stir-fry sauce and marinade ', ' beef Sirloin Tip Steaks', ' prepared Asian-style dressing', 'cloves  garlic', 'mixed salad greens', ' dry-roasted peanuts', 'beef Top Sirloin Steak boneless', 'beets', 'water', 'sweet potatoes', 'shallots', 'olive oil', 'sea salt', 'ground cumin', 'coarse grind black pepper', 'mixed salad greens', 'Sea salt', 'sliced unblanched almonds', 'reserved beet cooking liquid', 'sherry vinegar', 'brown sugar', 'sea or kosher salt', 'olive oil', 'grilled beef steak', 'uncooked gemelli or corkscrew pasta', ' fresh sugar snap peas', 'grape or teardrop tomatoes ', 'Salt and pepper', 'fresh grated lemon peel', 'fresh lemon juice', 'olive oil', 'chopped fresh parsley', 'cloves garlic', 'beef Strip Steaks Boneless', 'goat cheese', 'Pomegranate seeds ', 'pomegranate juice', ' balsamic vinegar', 'minced fresh rosemary', 'minced fresh thyme', 'olive oil', 'cloves garlic', 'Dijon-style mustard', 'pepper', 'uncooked quinoa', 'vegetable or beef broth', 'thinly sliced fresh baby spinach', 'pomegranate seeds or sweetened dried cranberries', 'chopped toasted walnuts ', 'beef Top Sirloin Steak boneless', 'plus light balsamic vinaigrette', 'pepper', 'large heads Treviso radicchio', 'fresh figs', 'olive oil', 'ripe Bartlett pear', 'coarsely chopped pistachio nuts', 'Ground Beef', 'uncooked bow tie pasta', 'fresh asparagus', 'olive oil', 'minced shallots ', 'or cloves garlic', 'Salt and pepper', 'shredded Parmesan cheese ', ' beef Tenderloin Steaks', ' large clove garlic', 'salt', 'chopped fresh parsley', 'cream cheese', 'crumbled blue cheese', 'plain yogurt', 'minced onion', 'Dash ground white pepper', 'Ground Beef', 'Caribbean jerk seasoning', 'Salt', ' large mango', 'chopped fresh cilantro', 'chopped green onion', 'finely chopped seeded jalapeño pepper', 'fresh lime juice', ' beef Flank Steak ', 'packaged coleslaw mix', 'chopped green onions', 'salt', 'Dash pepper', ' flour tortillas ', 'Salt and pepper', 'coarsely chopped honey roasted peanuts', 'Green onion flower and chopped honey roasted peanuts ', 'rice vinegar', 'dark sesame oil', 'honey', ' beef Tri-Tip Steaks', 'ground cinnamon', ' pepper', 'hoisin sauce', 'honey', 'Salt ', ' tri-color coleslaw mix ', 'Granny Smith apple', 'medium  whole wheat flour tortillas ', 'Ground Beef', 'medium red bell pepper', 'chopped romaine lettuce', 'crumbled herb-flavored feta cheese', 'prepared regular or reduced fat non-creamy Italian dressing or other vinaigrette', 'Kalamata or ripe olives', 'pita breads', 'grilled beef steak', 'fresh baby spinach', 'large red bell pepper', ' medium whole wheat tortillas ', 'fresh parsley leaves', 'cloves garlic', 'olive oil', 'red wine vinegar', 'salt', 'beef Sirloin Tip Steaks', 'lemon pepper', 'vegetable oil', 'plain or seasoned hummus', 'whole wheat pita breads', 'beef Top Sirloin Filets', 'lemon pepper', 'packed fresh baby spinach', 'fresh mozzarella cheese', 'chopped fresh basil', ' balsamic vinegar', 'naan breads ', 'cooked beef ', 'medium whole wheat flour tortillas ', 'Hummus', 'Fresh salad greens ', 'Grape tomatoes halves', 'package ', 'shredded asiago cheese', 'package ', 'green onions', ' Ground Beef', ' finely chopped white onion', 'salt', ' drained canned diced tomatoes', ' finely chopped carrots', 'raisins', ' coarsely chopped toasted blanched almonds', ' shredded Chihuahua cheese', 'large  jalapeño peppers ', 'Dairy sour cream ', 'Lime wedges ', 'beef Top Sirloin Steak Boneless', 'garlic-pepper seasoning', 'smoked paprika', '', 'water', 'sherry or balsamic vinegar', 'plus extra virgin olive oil', 'clove garlic', 'salt', 'smoked paprika', 'beef Flat Iron Steaks ', ' corn tortillas ', 'vegetable oil', 'Salt and pepper', 'chopped jicama', 'chopped orange', 'finely chopped jalapeño pepper', 'red wine vinegar', ' chopped fresh cilantro', ' grated orange peel', ' mashed avocado', 'low-fat dairy sour cream', 'ground cumin', 'grated orange peel', 'package ', 'red cherry tomatoes', '', '', 'olive oil', 'salt', ' large flour tortillas ', 'shredded Chihuahua or Monterey Jack cheese', 'crumbled blue cheese', 'Ground Beef', 'soft bread crumbs', 'large egg', 'chopped onion', 'cloves garlic', 'salt', 'pepper', 'hot pepper sauce', 'butter', 'honey', 'Blue cheese dressing', 'Celery sticks', 'beef Top Sirloin Steak', 'pepper', 'butter', 'chopped fresh parsley', 'garlic salt', '', 'container ', 'prepared wasabi paste', 'Ground Beef ', 'dark sesame oil', 'broccoli slaw', 'minced garlic', 'minced fresh ginger', 'reduced sodium soy sauce', 'wonton wrappers ', 'Favorite Asian dipping sauce ', 'Green onions', 'Ground Beef ', 'sesame oil', 'finely chopped button mushrooms', 'minced garlic', 'chopped green onions', 'minced fresh ginger', ' pepper', ' reduced-sodium soy sauce', 'wonton wrappers  ', 'water', 'Maple-Wasabi', 'Ground Beef ', 'chopped onion', 'clove garlic', 'prepared mild or medium taco sauce', 'ground cumin', 'salt', 'pepper', 'packages ', 'shredded reduced fat Mexican cheese blend', 'Shredded lettuce', ' prepared Italian dressing', ' coarsely chopped fresh cilantro', 'chili powder', ' finely chopped onion', ' ketchup', ' packed brown sugar', 'red wine vinegar', ' Worcestershire sauce', ' crushed red pepper', 'chopped fresh thyme', 'garlic', 'freshly grated lemon peel', 'olive oil', 'coarse grind black pepper', 'salt', ' chopped fresh parsley', 'Dijon-style mustard', ' cracked mixed peppercorns ', 'large  cloves garlic', 'salt', 'beef Tenderloin Steaks', 'Salt and pepper', 'chopped fresh oregano or dried oregano leaves', 'freshly grated lemon peel', 'cloves garlic', ' pepper', 'beef Tenderloin Steaks', 'chopped fresh thyme or dried thyme leaves', 'sweet paprika', 'cloves garlic', 'ground red pepper', 'beef Flank or Skirt Steak or Top Round Steaks', 'Salt and pepper', 'vegetable or olive oil', 'red wine vinegar', 'chopped fresh thyme or dried thyme leaves', 'sweet or smoked paprika', 'cloves garlic', 'ground red pepper', 'finely chopped onion', 'spicy steak sauce', 'cloves garlic', 'dried oregano leaves', ' finely ground espresso coffee beans', 'garlic pepper', ' brown sugar', 'ancho chili powder', 'soy sauce', 'finely chopped green onions', 'water', 'packed brown sugar', 'dark sesame oil', 'minced garlic', 'minced fresh ginger', 'pepper', 'boneless beef top sirloin steak', ' large red bell pepper', 'chopped fresh cilantro', 'olive oil', 'hot pepper sauce', 'clove garlic', 'crushed red pepper ', 'beef Top Sirloin Steak boneless', ' clove  garlic', 'black pepper', ' mini baguette rolls ', ' crumbled goat cheese', 'butter', 'olive oil', ' thinly sliced red onions', ' dry red wine', ' chopped pitted prunes', 'fig preserves', 'red wine vinegar', ' fresh thyme', 'salt', ' beef Ranch Steaks', 'package ', ' water', 'clove  garlic', ' prepared sesame-ginger stir-fry sauce', ' crushed red pepper', ' hot cooked rice or brown rice', '   dry-roasted peanuts', 'beef Sirloin Tip Roast ', 'Dijon-style mustard', 'fresh thyme', 'coarse grind black pepper', 'dry bread crumbs', 'small Brussels sprouts', ' packaged baby carrots', 'olive oil', 'fresh thyme', 'salt', ' coarse grind black pepper', 'olive oil', ' minced shallots', 'Dijon-style mustard', 'mustard seeds', 'dry mustard', 'fresh lemon juice', 'reduced-fat dairy sour cream', 'chopped fresh parsley', 'coarse grind black pepper', 'beef Top Round Steak', ' olive oil', ' asparagus pieces ', 'medium  yellow squash', 'hot cooked brown rice', ' diced', ' canned garbanzo beans', 'fresh basil', 'salt', 'olive oil', ' fresh lemon juice', ' minced garlic', 'honey', ' fresh thyme', ' salt', 'black pepper', ' beef Tenderloin Steaks', ' coarse grind black pepper', 'package ', 'medium  red or green pear', 'dried cranberries', 'Salt', 'coarsely chopped pecans', ' crumbled goat cheese ', 'prepared honey mustard', 'water', 'olive oil', 'white wine vinegar', ' coarse grind black pepper', 'salt', 'beef Ranch Steaks', 'chopped fresh thyme', 'minced garlic', 'arugula leaves', 'small heirloom tomatoes ', 'salt', 'pepper', 'Parmesan shavings', 'balsamic vinegar', 'salt', 'pepper', 'olive oil', 'beef Shoulder Roast Boneless ', 'olive oil', 'salt', 'pepper', 'chopped onion', 'chopped fresh thyme', 'ready-serve beef broth', 'apple cider', 'sweet potatoes', 'cloves garlic', 'maple syrup', 'minced fresh ginger', 'cornstarch dissolved in brandy or water', 'beef Sirloin Tip Steak', 'small red onion', 'small yellow summer squash', 'small  red or green bell pepper', 'Mushroom Wild Rice ', ' water', ' red wine vinegar', ' coarse-grain Dijon-style mustard', 'cloves  garlic', ' vegetable oil', ' coarse grind black pepper', ' beef Top Round Steak', ' vegetable oil', ' thinly sliced carrots', ' fresh pea pods', 'clove  garlic', 'Salt and black pepper', ' hot cooked jasmine rice', 'Chopped fresh cilantro', ' prepared plum sauce', ' minced fresh ginger', ' fresh lemon juice', 'soy sauce', 'ketchup', ' minced garlic', ' brown sugar', 'ground red pepper', 'package ', 'shredded asiago cheese', 'package ', 'green onions', ' Ground Beef', ' finely chopped white onion', 'salt', ' drained canned diced tomatoes', ' finely chopped carrots', 'raisins', ' coarsely chopped toasted blanched almonds', ' shredded Chihuahua cheese', 'large  jalapeño peppers ', 'Dairy sour cream ', 'Lime wedges ', ' Ground Beef ', 'Salt and pepper', ' prepared salsa', 'canned black beans', ' frozen corn', ' small flour tortillas ', ' shredded reduced fat Cheddar cheese or Mexican cheese blend', 'beef Top Sirloin Steak Boneless', 'garlic-pepper seasoning', 'smoked paprika', '', 'water', 'sherry or balsamic vinegar', 'plus extra virgin olive oil', 'clove garlic', 'salt', 'smoked paprika', 'beef Flat Iron Steaks ', ' corn tortillas ', 'vegetable oil', 'Salt and pepper', 'chopped jicama', 'chopped orange', 'finely chopped jalapeño pepper', 'red wine vinegar', ' chopped fresh cilantro', ' grated orange peel', ' mashed avocado', 'low-fat dairy sour cream', 'ground cumin', 'grated orange peel', 'package ', 'red cherry tomatoes', '', '', 'olive oil', 'salt', ' large flour tortillas ', 'shredded Chihuahua or Monterey Jack cheese', 'crumbled blue cheese', 'beef Flat Iron Steaks ', 'thick-and-chunky salsa', 'fresh cilantro leaves', 'large corn tortilla chips', 'guacamole', 'fresh cilantro leaves ', 'Ground Beef', 'soft bread crumbs', 'large egg', 'chopped onion', 'cloves garlic', 'salt', 'pepper', 'hot pepper sauce', 'butter', 'honey', 'Blue cheese dressing', 'Celery sticks', 'boneless beef Chuck or Round', '', '', 'medium onion', 'chili powder', 'salt', 'ground cumin', 'pepper', 'prepared thick-and-chunky salsa', 'Shredded Cheddar cheese', 'Ground Beef ', 'dark sesame oil', 'broccoli slaw', 'minced garlic', 'minced fresh ginger', 'reduced sodium soy sauce', 'wonton wrappers ', 'Favorite Asian dipping sauce ', 'Green onions', 'beef Stew Meat', 'all-purpose flour', 'salt', 'pepper', 'dried thyme leaves', 'ready-serve beef broth', 'tomato paste', 'dry red wine', 'cloves garlic', 'red-skinned potatoes ', 'assorted mushrooms', 'baby carrots', 'Fresh parsley ', 'beef Stew Meat', 'all-purpose flour', 'salt', ' ground black pepper', 'cayenne pepper', 'vegetable oil', 'chopped onions', 'dried oregano', 'dried fennel seeds', 'red wine', '', ' ', 'tomato paste', '', 'beef Shoulder Roast Boneless ', 'chopped onions', '', 'frozen hash brown potatoes ', 'beef broth', 'minced garlic', 'dried thyme leaves', 'salt', 'pepper', 'broccoli slaw', 'frozen peas', 'beef Brisket Flat Half ', 'barbecue sauce', 'dry red wine', 'chili powder', 'packed brown sugar', 'garlic powder', 'beef Short Ribs', 'vegetable oil', 'black pepper', 'salt', 'diced white onions', '', 'medium  poblano peppers', ' chipotle peppers in adobo sauce', 'Chopped white onion', 'Chopped fresh cilantro', 'Lime wedges ', 'beef Stew Meat', ' all-purpose flour', 'ground cumin', 'ground cinnamon', 'salt', 'ground red pepper', 'sweet potatoes', 'regular or golden raisins', '', 'Salt', 'Hot cooked couscous', 'Chopped toasted almonds ', 'Chopped fresh parsley ', 'beef Bottom Round Rump Roast or Bottom Round Roast  ', 'packages ', 'packages ', ' all-purpose flour', 'salt', 'black pepper', ' beer', 'Chopped fresh parsley ', ' beef Stew Meat', '', ' assorted olives', 'salt', 'black pepper', 'Cooked basmati rice', 'crumbled feta cheese', ' beef Short Ribs Boneless', ' diced fresh or drained jarred mango', 'medium  onion', 'minced fresh ginger', 'hickory-flavored barbecue sauce', 'beef Shoulder Roast boneless or Bottom Round Rump Roast ', 'envelope ', 'large onions', 'cloves garlic', 'red bell peppers', 'beef broth', 'zucchini', 'cornstarch dissolved in water', 'Salt and pepper', 'beef Top Sirloin Steak boneless', ' clove  garlic', 'black pepper', ' mini baguette rolls ', ' crumbled goat cheese', 'butter', 'olive oil', ' thinly sliced red onions', ' dry red wine', ' chopped pitted prunes', 'fig preserves', 'red wine vinegar', ' fresh thyme', 'salt', 'beef Ribeye Steaks Boneless', 'minced garlic', 'chopped fresh thyme', 'pepper', 'medium portobello mushrooms', 'olive oil', 'Salt', 'Chopped fresh parsley ', 'crumbled blue cheese', 'butter', 'chopped rehydrated sun-dried tomatoes', 'chopped fresh parsley', 'leftover Flat Iron Steaks with Grilled Corn and Cumin-Lime Butter', 'small corn tortillas', 'Lime wedges ', 'ears leftover grilled sweet corn', 'leftovergrilled poblano pepper', 'leftover grilled red finger ', 'olive oil', 'chopped fresh cilantro', 'fresh lime juice', 'salt', 'medium ripe avocado', 'chopped fresh cilantro', 'sour cream', 'fresh lime juice', 'salt', 'leftover beef Flank Steak', 'sour cream', 'fresh lime juice', 'clove garlic', 'salt', 'pepper', ' drained canned black beans', 'chopped seeded tomatoes', 'thinly sliced romaine lettuce', 'medium whole wheat or flour tortillas ', 'cooked beef ', 'large sweet potato', 'medium yellow onion', 'taco seasoning mix', 'water', 'vegetable oil', 'reduced-fat or regular dairy sour cream', 'hot pepper sauce', 'Chopped fresh cilantro', 'cooked beef ', 'eggs or egg substitute', 'chopped fresh baby spinach', ' diced tomatoes', 'Salt and pepper ', 'slices reduced-fat Swiss cheese', ' whole wheat round thin sandwich breads', 'beef Top Sirloin Steak boneless', ' small or medium heads Boston lettuce', 'dried cherries or dried cranberries', 'crumbled blue cheese', 'pine nuts or coarsely chopped walnuts', 'olive oil', ' red wine vinegar', 'clove garlic', 'salt', ' pepper', 'cooked beef ', 'leftover cooked rice', 'sheets nori ', 'thin strips fresh or leftover cooked vegetables ', ' reduced fat or regular Asian-style dressing', 'Additional Asian-style dressing', 'cooked ', 'slices crusty bread', 'tablespons garlic and herb soft spreadable cheese', 'slices Gruyere or other cheese', 'large eggs', ' green onions', 'water', 'cooked ', 'thinly sliced Brussels sprouts ', 'medium tart red or green apple or pear', 'thinly sliced celery', 'dried sweetened cranberries', 'reduced-fat champagne vinaigrette or honey mustard dressing', 'crumbled Gorgonzola', 'toasted chopped walnuts or pecans ', 'beef Tenderloin Roast ', 'large head garlic', 'plus olive oil', 'potatoes ', 'small onions', 'small plum tomatoes', 'medium zucchini', 'dried Italian seasoning', 'cracked black pepper', 'plus grated Parmesan cheese', 'Salt', 'Ground Beef', '', 'soft bread crumbs', 'egg', ' small onion', 'Worcestershire sauce', 'dried thyme leaves', 'garlic salt', 'pepper', 'packed brown sugar', 'dry mustard', 'beef Short Ribs', 'vegetable oil', 'Salt and pepper', '', 'dry red wine', 'small onions', 'cloves garlic', 'fresh thyme sprigs', 'sliced mushrooms', 'butter', 'chopped shallots', 'minced fresh thyme', 'cornstarch dissolved in dry red wine', 'beef Eye of Round Roast', 'water', 'small new red potatoes', 'chili powder', 'packed brown sugar', 'cider vinegar', 'Worcestershire sauce', 'beef Brisket Flat Half ', 'barbecue sauce', 'dry red wine', 'chili powder', 'packed brown sugar', 'garlic powder', ' whole beef Tenderloin Roast ', 'chopped fresh thyme', 'pepper', 'balsamic vinegar', 'finely chopped shallots', '', 'salt', 'Ground Beef', 'salt', 'pepper', 'olive oil', 'button mushrooms', 'chopped onion', 'dried thyme leaves', 'milk', 'large eggs', 'Nonstick cooking spray', 'crustless bread cubes ', 'shredded Asiago or fontina cheese', 'cherry or grape tomatoes', 'Thinly sliced fresh basil', 'beef Eye of Round Roast ', 'prepared mashed potatoes', 'crumbled blue cheese', 'finely chopped walnuts', 'finely chopped green onion', 'pepper', 'Ground Beef ', 'small red-skinned new potatoes ', 'water', 'thinly sliced yellow onion', 'small zucchini', 'salt', 'pepper', 'large eggs', 'chopped fresh basil', 'shredded Italian cheese blend', 'chopped tomato', 'beef Ribeye Roast Bone-In ', 'Salt', 'Chopped fresh parsley ', 'Goat Cheese Mashed Potatoes ', 'freshly grated orange peel', 'finely chopped fresh thyme', 'finely chopped garlic', 'coarse grind black pepper', 'butter', 'finely chopped shallots', 'finely chopped fresh thyme', 'port wine', '', 'whipping cream', 'soy sauce', 'bittersweet chocolate', 'Salt and ground black pepper', 'Ground Beef', 'slices sweet onion ', 'Vegetable oil', 'slices Swiss cheese', 'mayonnaise', 'Dijon-style mustard', ' crusty rolls', 'Romaine lettuce', 'Ground Beef', 'Caribbean jerk seasoning', 'Salt', ' large mango', 'chopped fresh cilantro', 'chopped green onion', 'finely chopped seeded jalapeño pepper', 'fresh lime juice', 'Ground Beef', 'sesame seed sandwich rolls', 'watercress or mixed spring greens', 'curry powder', 'Caribbean jerk seasoning', 'salt', 'reduced-fat mayonnaise', 'low-fat plain yogurt', 'fresh lime juice', 'grated lime peel', 'salt', 'Ground Beef', 'large sweet onion', 'Vegetable oil', 'Salt and pepper', 'hamburger buns', 'Lettuce leaves', 'Tomato slices', 'Ground Beef ', ' quick-cooking oats', 'steak seasoning blend', ' seeded or whole wheat hamburger buns', 'slices  lowfat cheese', 'Lettuce leaves', 'ground beef', 'balsamic vinegar', 'package ', 'olive oil', 'Salt and pepper', 'package ', 'medium  tomatoes', 'Thinly sliced fresh basil', 'Ground Beef', 'mango chutney', 'Caribbean jerk seasoning', 'fresh or canned pineapple slices', 'Kaiser rolls or hamburger buns', 'slices sharp Cheddar cheese', 'Ground Beef ', 'low-fat or regular plain Greek-style yogurt', 'olive tapenade', 'small sweet onion', 'small zucchini', ' crumbled feta cheese', 'whole-grain hamburger buns', 'Fresh spinach leaves', 'Ground Beef', 'steak seasoning blend', 'hamburger buns', 'slices cheese ', 'lettuce leaves', 'tomato slices', 'Toppings ', 'Ground Beef', 'shredded Napa cabbage', 'fresh lime juice', 'chopped green onions', 'ground ginger', 'hot chili sauce', 'creamy peanut butter', 'hoisin sauce', 'toasted sesame oil', 'Salt and pepper', 'whole wheat or white hamburger buns', 'beef Top Sirloin Steak Boneless', '', 'couscous', 'olive oil', ' medium red bell pepper', 'coarsely chopped Vidalia or other sweet onion', 'prepared honey-Dijon barbecue sauce', 'chopped fresh parsley', 'Parsley sprigs', 'beef Top Sirloin Steak Boneless', 'assorted fresh vegetables', 'clove garlic', 'prepared stir-fry sauce', 'crushed red pepper', 'hot cooked rice', 'unsalted dry-roasted peanuts ', 'beef Sirloin Tip Steaks', 'uncooked thin spaghetti', 'package ', '', 'sliced green onions', 'chopped red chili peppers', 'hoisin sauce', 'reduced-sodium soy sauce', 'water', 'dark sesame oil', ' large cloves garlic', 'crushed red pepper', ' beef Ranch Steaks', 'package ', ' water', 'clove  garlic', ' prepared sesame-ginger stir-fry sauce', ' crushed red pepper', ' hot cooked rice or brown rice', '   dry-roasted peanuts', 'beef Top Round Steak', 'small yellow bell pepper', 'broccoli florets', 'medium carrots', 'fresh snow peas', 'stalk celery', 'frozen shelled edamame', 'cloves garlic', 'water', 'Salt', 'sesame-ginger stir-fry sauce', 'crushed red pepper', 'hot cooked brown or white rice', 'beef Top Sirloin Steak Boneless or Top Round Steak', 'ground cumin', 'dried oregano leaves', 'olive oil', 'large all-purpose potato', 'medium onion', 'medium green bell pepper', '', 'raisins', 'Warmed flour tortillas or hot cooked rice', 'beef Strip Steaks Boneless', 'uncooked instant brown rice', 'vegetable oil', 'asparagus', 'walnuts halves', 'cloves garlic', 'salt', 'fat-free', 'crumbled blue cheese', 'beef Top Sirloin Steak Boneless', 'olive oil', 'jicama strips ', 'package ', 'red bell pepper', 'fresh mango chunks', 'reduced-sodium soy sauce', 'cloves garlic', 'hot cooked instant rice', 'beef Top Sirloin Steak', 'minced garlic', 'crushed red pepper', 'chopped green onions', 'oyster sauce', 'tablespooons sugar', 'chopped fresh ginger', 'bamboo shoots', 'hot cooked  rice', 'Ground Beef ', 'medium  green bell pepper', 'package ', 'Water', '', 'Ground Beef ', 'frozen potatoes O’Brien', 'Salt and pepper', '', 'frozen corn', 'chopped fresh cilantro', 'shredded reduced-fat Cheddar cheese or Mexican cheese blend', 'Reduced fat dairy sour cream', 'Ground Beef', '', 'prepared thick-and-chunky salsa', 'water', 'chopped fresh cilantro', 'Hot cooked elbow macaroni', 'Ground Beef ', '', 'uncooked whole wheat or whole grain pasta', 'small zucchini and/or yellow squash', '', 'Freshly grated Parmesan cheese ', 'Ground Beef ', 'medium onion', 'serrano chiles', 'hoisin sauce', 'oyster sauce', 'soy sauce', 'honey', 'sesame seed hamburger buns', 'Ground Beef ', 'water', 'reduced-fat creamy peanut butter or regular sunflower seed butter', 'reduced-sodium soy sauce', 'fresh lime juice', 'garlic powder', 'ground ginger', 'crushed red pepper', 'Baked wonton wrappers ', 'Red bell pepper strips', 'Ground Beef ', 'sliced button or cremini mushrooms', 'cloves garlic', 'chopped fresh thyme or dried thyme leaves', 'uncooked whole grain wide noodle-style pasta', '', 'frozen peas', 'regular or reduced-fat dairy sour cream plus additional for topping', 'regular or coarse-grain Dijon-style mustard', 'Salt and pepper', 'Ground Beef', 'small yellow onion', 'small green bell pepper', 'packed fresh cilantro leaves', 'cloves garlic', 'coriander and annatto seasoning mix', '', '', 'sliced green olives with pimentos', 'unripe plantains', 'salt', 'canned French fried onions ', 'Lime wedges', 'Ground Beef ', 'finely chopped yellow onion', 'finely chopped green', '', 'brown sugar', 'Worcestershire sauce', 'hamburger buns', 'Dill pickle slices', 'beef Shoulder Roast Boneless ', 'chopped onions', '', 'frozen hash brown potatoes ', 'beef broth', 'minced garlic', 'dried thyme leaves', 'salt', 'pepper', 'broccoli slaw', 'frozen peas', 'beef Stew Meat', 'package ', '', 'vegetable oil', '', 'frozen diced or hash-brown potatoes ', 'Salt and pepper', 'Ground Beef ', 'salt', 'pepper', 'water', '', '', '', 'uncooked alphabet pasta', 'small broccoli florets', 'Salt and pepper', 'Grated or shredded Parmesan cheese ', 'slices whole wheat bread', 'Olive oil for brushing', 'grated or shredded Parmesan cheese', 'beef Stew Meat', ' all-purpose flour', 'ground cumin', 'ground cinnamon', 'salt', 'ground red pepper', 'sweet potatoes', 'regular or golden raisins', '', 'Salt', 'Hot cooked couscous', 'Chopped toasted almonds ', 'Chopped fresh parsley ', 'beef Stew Meat', 'slices bacon', 'salt', 'pepper', '', 'apple cider', 'sweet potatoes', 'unsweetened dried cranberries', 'Ground Beef ', '  diced peeled sweet potato', ' chopped onion', ' chopped red bell pepper', 'curry powder', 'all-purpose flour', 'water or ready-serve beef broth', '', '', ' packed fresh baby spinach leaves', ' chopped fresh thyme', 'Salt and ground black pepper', 'Ground Beef', '', 'dried thyme leaves', 'slices Swiss cheese', 'slices French bread', 'beef Stew Meat', 'water', 'package ', 'dried thyme leaves', 'salt', 'pepper', 'medium pearled barley', 'loosely packed fresh baby spinach', 'beef Stew Meat', 'package ', '', 'water', 'sun-dried tomato pesto sauce or spread', 'beef Stew Meat', '', '', '', 'water', 'dried Italian seasoning', 'salt', 'pepper', 'frozen mixed vegetables', 'uncooked ditalini or other small pasta', 'Shredded Romano cheese ', 'thinly sliced deli roast beef', 'mild horseradish sauce', 'low-fat milk', 'chopped Major Grey chutney', ' large slices dark rye bread', ' medium cucumber', ' small red onion', 'snipped chives', 'thin slices deli roast beef ', 'shredded carrots', 'chopped jicama', 'torn fresh cilantro', 'torn fresh basil', 'torn fresh mint', 'rice paper wrappers ', 'green leaf lettuce leaves', 'seasoned rice vinegar', 'red jalapeño pepper jelly', 'soy sauce', 'cooked beef ', 'medium whole wheat flour tortillas ', 'Hummus', 'Fresh salad greens ', 'Grape tomatoes halves', 'cooked beef ', 'eggs or egg substitute', 'chopped fresh baby spinach', ' diced tomatoes', 'Salt and pepper ', 'slices reduced-fat Swiss cheese', ' whole wheat round thin sandwich breads', 'cooked beef ', 'thin-style flavored bagels or regular bagels', 'reduced-fat cream cheese', 'nonpareil capers', 'thin slices tomato', 'thin slices red onion', 'Nonpareil capers ', 'cooked Corned Beef or thickly sliced deli Corned Beef', 'vegetable oil', 'cubed unpeeled potatoes ', 'medium leeks', 'garlic salt', 'Fried or poached eggs ', 'cooked beef roast or deli roast beef', 'shredded broccoli slaw', 'reduced-fat or fat-free ranch dressing', 'reduced-fat or fat-free cream cheese', 'flour medium tortillas ', 'thinly sliced Deli Roast Beef', '', 'slices provolone cheese', 'crusty Italian bread rolls ', 'chopped vegetables such as carrot', 'medium jalapeño pepper', 'white vinegar', 'olive oil', 'cloves garlic', 'dried oregano leaves', 'granulated sugar', 'salt', 'black pepper', 'thinly sliced deli Corned Beef', 'Thousand Island dressing', 'slices rye', 'slices Swiss cheese ', 'drained sauerkraut', 'Ground Beef ', 'deli Corned Beef', 'slices Swiss cheese', 'yellow mustard', 'dill pickle slices', 'slices rye bread', 'Ground Beef', 'chili powder', 'salt', '', 'prepared chunky salsa', ' taco shells', 'Shredded Monterey Jack cheese', 'Ground Beef', 'soft bread crumbs', ' egg', 'finely chopped onion', 'clove garlic', 'salt', 'pepper', '', 'uncooked spaghetti', 'Grated Parmesan cheese', 'Ground Beef', 'chopped red bell pepper', 'pepper', 'chopped green onions', 'creamy peanut butter', 'grape jelly', 'soy sauce', ' medium flour tortillas ', 'chopped dry roasted peanuts', 'Ground Beef ', 'minced garlic', 'salt', 'ground nutmeg', 'black pepper', '', 'water', 'package ', 'shredded Italian cheese blend', 'Ground Beef ', '  cayenne pepper sauce', ' taco shells', ' thinly sliced lettuce', 'reduced fat or regular prepared blue cheese dressing', 'shredded carrot', '  chopped celery', ' chopped fresh cilantro', 'Carrot and celery sticks or cilantro sprigs ', 'beef Top Sirloin Steak Boneless', 'ketchup', 'hoisin sauce', 'black pepper', 'Salt ', ' diced fresh pineapple', ' diced red bell pepper', ' diced hothouse cucumber', ' rice vinegar ', ' beef Tri-Tip Steaks', 'ground cinnamon', ' pepper', 'hoisin sauce', 'honey', 'Salt ', ' tri-color coleslaw mix ', 'Granny Smith apple', 'medium  whole wheat flour tortillas ', 'beef Sirloin Tip Steaks', 'lemon pepper', 'vegetable oil', 'plain or seasoned hummus', 'whole wheat pita breads', 'Ground Beef ', '', 'canned black beans', 'ground cumin', 'small whole wheat tortillas ', 'shredded reduced-fat Mexican cheese blend', 'Chopped fresh cilantro ', 'coarsely chopped ripe mango', 'coarsely chopped cantaloupe', 'crushed red pepper', 'beef Shoulder Roast Boneless or Bottom Round Rump Roast ', 'medium onion', 'cloves garlic', 'water', 'salt', 'pepper', '', 'flour tortillas ', 'Fresh cilantro ', 'frozen corn', 'chopped fresh tomato', 'chopped fresh cilantro', 'Ground Beef', 'large clove garlic', '', '', '', '', 'package ', '', 'dairy sour cream', 'green hot pepper sauce', 'Ground Beef', '', '', 'package ', 'instant mashed potato flakes', 'plus milk', 'shredded Cheddar cheese', 'Chopped cilantro', ' Ground Beef ', ' vegetable oil', ' chopped onions', ' minced garlic', 'medium  yellow bell peppers', 'large  jalapeño pepper', ' chili powder', ' ground cumin', ' dried oregano leaves', ' dried thyme leaves', ' ground red pepper', '', '', '', ' dark beer', ' tomato paste', ' honey', '', 'Chopped fresh  cilantro ', 'beef Stew Meat', 'vegetable oil', 'Salt', 'medium onion', 'medium jalapeño pepper', '', 'boneless beef Chuck or Round', '', '', 'medium onion', 'chili powder', 'salt', 'ground cumin', 'pepper', 'prepared thick-and-chunky salsa', 'Shredded Cheddar cheese', 'Ground Beef', '', 'prepared thick-and-chunky salsa', 'water', 'chopped fresh cilantro', 'Hot cooked elbow macaroni', 'beef Shoulder', 'vegetable oil', 'salt', 'cloves garlic', '', 'bottle ', 'adobo sauce from chipotle peppers', 'minced chipotle peppers in adobo sauce', '', 'masa harina', 'Dairy sour cream', ' Ground Beef ', '', '', '', 'bottle ', 'medium yellow onion', 'medium green', '', 'chili powder', 'large  jalapeño pepper', ' minced garlic', ' ground cumin', ' dried oregano leaves', '', 'Lime wedges and baked tortillas chips ', 'Sliced cherry tomatoes', 'Ground Beef ', 'medium green or red bell pepper', '', '', 'bottle ', 'packet ', 'Sliced cherry tomatoes', 'Ground Beef ', 'chopped onion', '', '', 'frozen corn', 'water', 'chili powder', 'ground cumin', 'garlic powder', 'dried oregano leaves', 'pepper', 'Hot cooked whole wheat macaroni ', 'Crushed baked tortilla chips']\n"
     ]
    }
   ],
   "source": [
    "pattern = re.compile(\"\\\\b(ounce|oz|ounces|pound|pounds|tablespoon|tablespoons|½|teaspoon|to|teaspoons|cup|cups|\\d+)\\\\W\", re.I)\n",
    "ingredientList = [pattern.sub(\"\", ingredient) for ingredient in ingredientList]\n",
    "                  \n",
    "print(ingredientList)"
   ]
  },
  {
   "cell_type": "code",
   "execution_count": null,
   "metadata": {
    "collapsed": true
   },
   "outputs": [],
   "source": []
  },
  {
   "cell_type": "code",
   "execution_count": null,
   "metadata": {
    "collapsed": true
   },
   "outputs": [],
   "source": []
  }
 ],
 "metadata": {
  "kernelspec": {
   "display_name": "Python 3",
   "language": "python",
   "name": "python3"
  },
  "language_info": {
   "codemirror_mode": {
    "name": "ipython",
    "version": 3
   },
   "file_extension": ".py",
   "mimetype": "text/x-python",
   "name": "python",
   "nbconvert_exporter": "python",
   "pygments_lexer": "ipython3",
   "version": "3.6.1"
  }
 },
 "nbformat": 4,
 "nbformat_minor": 2
}
