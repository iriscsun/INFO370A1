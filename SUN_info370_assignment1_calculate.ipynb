{
 "cells": [
  {
   "cell_type": "code",
   "execution_count": 2,
   "metadata": {
    "collapsed": true
   },
   "outputs": [],
   "source": [
    "import pandas as pd"
   ]
  },
  {
   "cell_type": "code",
   "execution_count": 3,
   "metadata": {
    "collapsed": true
   },
   "outputs": [],
   "source": [
    "df = pd.read_csv('SUN_info370_assignment1_cleanData.csv', index_col=0)\n"
   ]
  },
  {
   "cell_type": "code",
   "execution_count": 4,
   "metadata": {
    "collapsed": true
   },
   "outputs": [],
   "source": [
    "#splits the ingredient column in the dataframe (df) into individual words, then stores in list food\n",
    "food = []\n",
    "for ingredient in df['ingredient']:\n",
    "    food += ingredient.split()"
   ]
  },
  {
   "cell_type": "code",
   "execution_count": 5,
   "metadata": {
    "collapsed": true
   },
   "outputs": [],
   "source": [
    "#calculates the frequency of each word that appears in the list food\n",
    "food = pd.Series(food)\n",
    "count = food.value_counts()[0:11].tolist()\n",
    "\n",
    "#top 10 words by frequency amount\n",
    "words = food.value_counts().index.tolist()[0:11]"
   ]
  },
  {
   "cell_type": "code",
   "execution_count": 6,
   "metadata": {
    "collapsed": true
   },
   "outputs": [],
   "source": [
    "#adds each recipe in the clean csv to set in order to remove duplicates\n",
    "recipeNames = set()\n",
    "for name in df['name']:\n",
    "    recipeNames.add(name)\n",
    "    \n",
    "#total number of recipes in the clean csv\n",
    "numRecipes = len(recipeNames)"
   ]
  },
  {
   "cell_type": "code",
   "execution_count": 7,
   "metadata": {},
   "outputs": [],
   "source": [
    "#calculates the number/proportion of recipes each word appears in for each of top 10 words\n",
    "proportion = []\n",
    "\n",
    "#loop through each word in the list of top 10 most frequently appearing words\n",
    "for word in words:\n",
    "    recipes = set()\n",
    "    for index, item in enumerate(df['ingredient']):\n",
    "        temp = item.split()\n",
    "        if word in temp:\n",
    "            recipes.add(df.iloc[index]['name'])\n",
    "    #adds proportion of recipes that the current top ten word appears in\n",
    "    proportion.append(str(len(recipes)) + '/' + str(numRecipes))    "
   ]
  },
  {
   "cell_type": "code",
   "execution_count": 8,
   "metadata": {
    "collapsed": true
   },
   "outputs": [],
   "source": [
    "calculatedData = pd.DataFrame(\n",
    "    {'word': words,\n",
    "     'count': count,\n",
    "     'proportion': proportion\n",
    "    })"
   ]
  },
  {
   "cell_type": "code",
   "execution_count": 9,
   "metadata": {},
   "outputs": [],
   "source": [
    "calculatedData.to_csv('SUN_info370_assignment1_calculate.csv')"
   ]
  },
  {
   "cell_type": "code",
   "execution_count": null,
   "metadata": {
    "collapsed": true
   },
   "outputs": [],
   "source": []
  },
  {
   "cell_type": "code",
   "execution_count": null,
   "metadata": {},
   "outputs": [],
   "source": []
  },
  {
   "cell_type": "code",
   "execution_count": null,
   "metadata": {
    "collapsed": true
   },
   "outputs": [],
   "source": []
  },
  {
   "cell_type": "code",
   "execution_count": null,
   "metadata": {
    "collapsed": true
   },
   "outputs": [],
   "source": []
  }
 ],
 "metadata": {
  "kernelspec": {
   "display_name": "Python 3",
   "language": "python",
   "name": "python3"
  },
  "language_info": {
   "codemirror_mode": {
    "name": "ipython",
    "version": 3
   },
   "file_extension": ".py",
   "mimetype": "text/x-python",
   "name": "python",
   "nbconvert_exporter": "python",
   "pygments_lexer": "ipython3",
   "version": "3.6.1"
  }
 },
 "nbformat": 4,
 "nbformat_minor": 2
}
