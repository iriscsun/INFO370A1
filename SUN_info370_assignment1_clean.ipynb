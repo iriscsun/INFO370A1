{
 "cells": [
  {
   "cell_type": "code",
   "execution_count": null,
   "metadata": {
    "collapsed": true
   },
   "outputs": [],
   "source": []
  },
  {
   "cell_type": "code",
   "execution_count": null,
   "metadata": {},
   "outputs": [],
   "source": []
  },
  {
   "cell_type": "code",
   "execution_count": 83,
   "metadata": {},
   "outputs": [],
   "source": [
    "#cleans the raw data set by removing measurements and other miscellaneous words from ingredients\n",
    "def cleanData():\n",
    "    \n",
    "    #import required libraries\n",
    "    import pandas as pd\n",
    "    import re\n",
    "    \n",
    "    #read in raw data file \n",
    "    df = pd.read_csv('SUN_info370_assignment1_rawData.csv', index_col=0)\n",
    "    \n",
    "    #removing rows without valid ingredients\n",
    "    df = df[df['ingredient'].str.len() > 3]\n",
    "\n",
    "    #cleaning ingredient column by removing measurements and numbers\n",
    "    pattern = re.compile(\"\\\\b(Â|ounce|oz|ounces|pound|pounds|tablespoon|tablespoons|½|teaspoon|to|teaspoons|cup|cups|\\d+)\\\\W\", re.I)\n",
    "    df['ingredient'] = [pattern.sub(\"\", ingredient).strip() for ingredient in df['ingredient']]\n",
    "\n",
    "    for index, ingredient in enumerate(df['ingredient']):\n",
    "        #removes all words after a comma\n",
    "        temp = ingredient.split(',', 1)[0]\n",
    "        #removes all words after parenthesis because these are usually instructions\n",
    "        df.iloc[index]['ingredient'] = temp.split('(', 1)[0]\n",
    "    \n",
    "    #removing rows without valid ingredients\n",
    "    df = df[df['ingredient'] != '']\n",
    "        \n",
    "    df.to_csv('SUN_info370_assignment1_cleanData.csv')\n",
    "    "
   ]
  },
  {
   "cell_type": "code",
   "execution_count": null,
   "metadata": {},
   "outputs": [],
   "source": [
    "\n",
    "\n",
    "\n",
    "\n",
    "\n"
   ]
  },
  {
   "cell_type": "code",
   "execution_count": null,
   "metadata": {},
   "outputs": [],
   "source": []
  },
  {
   "cell_type": "code",
   "execution_count": 72,
   "metadata": {
    "collapsed": true
   },
   "outputs": [],
   "source": []
  },
  {
   "cell_type": "code",
   "execution_count": null,
   "metadata": {
    "collapsed": true
   },
   "outputs": [],
   "source": []
  }
 ],
 "metadata": {
  "kernelspec": {
   "display_name": "Python 3",
   "language": "python",
   "name": "python3"
  },
  "language_info": {
   "codemirror_mode": {
    "name": "ipython",
    "version": 3
   },
   "file_extension": ".py",
   "mimetype": "text/x-python",
   "name": "python",
   "nbconvert_exporter": "python",
   "pygments_lexer": "ipython3",
   "version": "3.6.1"
  }
 },
 "nbformat": 4,
 "nbformat_minor": 2
}
