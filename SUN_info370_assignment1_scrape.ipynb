{
 "cells": [
  {
   "cell_type": "code",
   "execution_count": 45,
   "metadata": {
    "collapsed": true
   },
   "outputs": [],
   "source": [
    "import urllib.request\n",
    "import urllib\n",
    "import pandas as pd\n",
    "import re\n",
    "from bs4 import BeautifulSoup"
   ]
  },
  {
   "cell_type": "code",
   "execution_count": 46,
   "metadata": {
    "collapsed": true
   },
   "outputs": [],
   "source": [
    "urlMain = 'http://www.beefitswhatsfordinner.com'\n",
    "urlRC =  'http://www.beefitswhatsfordinner.com/recipes/collection'\n",
    "recipeList = []\n",
    "\n"
   ]
  },
  {
   "cell_type": "code",
   "execution_count": 47,
   "metadata": {
    "collapsed": true
   },
   "outputs": [],
   "source": [
    "recipeCollection = [urlRC + '/10002/grilling-favorites',\n",
    "                    urlRC + '/10008/not-your-average-salad',\n",
    "                    urlRC + '/10009/30-minutes-or-less',\n",
    "                    urlRC + '/10011/appetizers-worth-sharing',\n",
    "                    urlRC + '/10014/flavor-boosting-rubs-marinades',\n",
    "                    urlRC + '/10018/well-balanced-meals',\n",
    "                    urlRC + '/10030/tailgating-treasures',\n",
    "                    urlRC + '/10032/slow-cooker-comforts',\n",
    "                    urlRC + '/10033/so-long-leftovers',\n",
    "                    urlRC + '/10034/recipes-for-a-crowd',\n",
    "                    urlRC + '/10039/the-tastiest-burgers',\n",
    "                    urlRC + '/10044/savory-stir-fry',\n",
    "                    urlRC + '/10045/meals-in-the-skillet',\n",
    "                    urlRC + '/10049/more-soup-for-you',\n",
    "                    urlRC + '/10052/from-the-deli',\n",
    "                    urlRC + '/10058/kid-friendly-fare',\n",
    "                    urlRC + '/10061/gotta-try-beef-chilis']"
   ]
  },
  {
   "cell_type": "code",
   "execution_count": 48,
   "metadata": {
    "collapsed": true
   },
   "outputs": [],
   "source": [
    "for page in recipeCollection:\n",
    "    with urllib.request.urlopen(page) as url:\n",
    "        page = url.read()  \n",
    "        parsed_page = BeautifulSoup(page, 'lxml')\n",
    "        menu_box = parsed_page.findAll('div', attrs={'class': 'col-sm-4 col-md-6 recipe-img'})\n",
    "        for div in menu_box:\n",
    "            links = div.findAll('a')\n",
    "            for a in links:\n",
    "                try:\n",
    "                    recipeList.append(urlMain + a['href'])\n",
    "                except KeyError:\n",
    "                    pass"
   ]
  },
  {
   "cell_type": "code",
   "execution_count": 14,
   "metadata": {
    "collapsed": true
   },
   "outputs": [],
   "source": []
  },
  {
   "cell_type": "code",
   "execution_count": 49,
   "metadata": {
    "collapsed": true
   },
   "outputs": [],
   "source": [
    "ingredientList = []\n",
    "recipeName = []\n",
    "recipeURL = []\n",
    "\n",
    "#scrapes each link which contains a recipe for ingredients and recipe name\n",
    "for link in recipeList:\n",
    "    with urllib.request.urlopen(link) as url:\n",
    "        page = url.read()  \n",
    "        parsed_page = BeautifulSoup(page, 'lxml')\n",
    "        name = ''\n",
    "        \n",
    "        #grabs the title of the current recipe\n",
    "        menu_title = parsed_page.findAll('li', attrs={'class': 'current'})\n",
    "        for div in menu_title:\n",
    "            name = div.text.strip()\n",
    "            \n",
    "        #grabs all of the ingredients in the current recipe\n",
    "        menu_box = parsed_page.findAll('li', attrs={'itemprop': 'ingredients'})\n",
    "        for div in menu_box:\n",
    "            \n",
    "            #removes all words after a comma\n",
    "            item = div.text.strip().split(',', 1)[0]\n",
    "            \n",
    "            #removes the word '(optional)' which appears next to some ingredients\n",
    "            item = item.split('(', 1)[0]\n",
    "            \n",
    "            #add url, recipe, and ingredient to their corresponding list\n",
    "            ingredientList.append(item.lower())\n",
    "            recipeURL.append(link.lower())\n",
    "            recipeName.append(name.lower())\n",
    "        \n",
    "       "
   ]
  },
  {
   "cell_type": "code",
   "execution_count": 50,
   "metadata": {
    "collapsed": true
   },
   "outputs": [],
   "source": [
    "rawData = pd.DataFrame(\n",
    "    {'url': recipeURL,\n",
    "     'name': recipeName,\n",
    "     'ingredient': ingredientList\n",
    "    })\n",
    "\n",
    "rawData.to_csv('SUN_info370_assignment1_rawData.csv')"
   ]
  },
  {
   "cell_type": "code",
   "execution_count": null,
   "metadata": {},
   "outputs": [],
   "source": []
  },
  {
   "cell_type": "code",
   "execution_count": null,
   "metadata": {
    "collapsed": true
   },
   "outputs": [],
   "source": []
  },
  {
   "cell_type": "code",
   "execution_count": null,
   "metadata": {
    "collapsed": true
   },
   "outputs": [],
   "source": []
  }
 ],
 "metadata": {
  "kernelspec": {
   "display_name": "Python 3",
   "language": "python",
   "name": "python3"
  },
  "language_info": {
   "codemirror_mode": {
    "name": "ipython",
    "version": 3
   },
   "file_extension": ".py",
   "mimetype": "text/x-python",
   "name": "python",
   "nbconvert_exporter": "python",
   "pygments_lexer": "ipython3",
   "version": "3.6.1"
  }
 },
 "nbformat": 4,
 "nbformat_minor": 2
}
