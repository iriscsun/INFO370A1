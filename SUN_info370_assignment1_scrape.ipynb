{
 "cells": [
  {
   "cell_type": "code",
   "execution_count": 8,
   "metadata": {
    "collapsed": true
   },
   "outputs": [],
   "source": [
    "import urllib.request\n",
    "import urllib\n",
    "import pandas as pd\n",
    "import re\n",
    "from bs4 import BeautifulSoup"
   ]
  },
  {
   "cell_type": "code",
   "execution_count": null,
   "metadata": {
    "collapsed": true
   },
   "outputs": [],
   "source": []
  },
  {
   "cell_type": "code",
   "execution_count": 20,
   "metadata": {},
   "outputs": [],
   "source": [
    "def scrape():\n",
    "    urlRC =  'http://www.beefitswhatsfordinner.com/recipes/collection'\n",
    "    recipeCollection = [urlRC + '/10002/grilling-favorites',\n",
    "                        urlRC + '/10008/not-your-average-salad',\n",
    "                        urlRC + '/10009/30-minutes-or-less',\n",
    "                        urlRC + '/10011/appetizers-worth-sharing',\n",
    "                        urlRC + '/10014/flavor-boosting-rubs-marinades',\n",
    "                        urlRC + '/10018/well-balanced-meals',\n",
    "                        urlRC + '/10030/tailgating-treasures',\n",
    "                        urlRC + '/10032/slow-cooker-comforts',\n",
    "                        urlRC + '/10033/so-long-leftovers',\n",
    "                        urlRC + '/10034/recipes-for-a-crowd',\n",
    "                        urlRC + '/10039/the-tastiest-burgers',\n",
    "                        urlRC + '/10044/savory-stir-fry',\n",
    "                        urlRC + '/10045/meals-in-the-skillet',\n",
    "                        urlRC + '/10049/more-soup-for-you',\n",
    "                        urlRC + '/10052/from-the-deli',\n",
    "                        urlRC + '/10058/kid-friendly-fare',\n",
    "                        urlRC + '/10061/gotta-try-beef-chilis',\n",
    "                        urlRC + '/10070/bbq-for-you']\n",
    "    recipeList = findHTML(recipeCollection)\n",
    "    rawDataList = createDF(recipeList)\n",
    "    \n",
    "    rawData = pd.DataFrame(\n",
    "        {'url': rawDataList[0],\n",
    "         'name': rawDataList[1],\n",
    "         'ingredient': rawDataList[2]\n",
    "        })\n",
    "    rawData.to_csv('SUN_info370_assignment1_rawData.csv')"
   ]
  },
  {
   "cell_type": "code",
   "execution_count": 16,
   "metadata": {},
   "outputs": [
    {
     "name": "stdout",
     "output_type": "stream",
     "text": [
      "['http://www.beefitswhatsfordinner.com/recipes/recipe/656/grecian-beef-strip-steaks-mushroom-kabobs', 'http://www.beefitswhatsfordinner.com/recipes/recipe/741/grilled-t-bone-steaks-with-bbq-rub', 'http://www.beefitswhatsfordinner.com/recipes/recipe/975/firecracker-burgers-with-cooling-lime-sauce', 'http://www.beefitswhatsfordinner.com/recipes/recipe/1031/balsamic-marinated-flank-steak', 'http://www.beefitswhatsfordinner.com/recipes/recipe/1080/burgers-with-grilled-onions', 'http://www.beefitswhatsfordinner.com/recipes/recipe/1104/mushroom-merlot-burger', 'http://www.beefitswhatsfordinner.com/recipes/recipe/1332/spicy-beef-back-ribs', 'http://www.beefitswhatsfordinner.com/recipes/recipe/1632/ribeye-steaks-with-blue-cheese-butter-and-mushrooms', 'http://www.beefitswhatsfordinner.com/recipes/recipe/1685/garden-herb-strip-steaks', 'http://www.beefitswhatsfordinner.com/recipes/recipe/1926/chimichurri-marinated-strip-filets', 'http://www.beefitswhatsfordinner.com/recipes/recipe/402/confetti-beef-taco-salad', 'http://www.beefitswhatsfordinner.com/recipes/recipe/1158/farmers-market-vegetable-beef-brown-rice-salad', 'http://www.beefitswhatsfordinner.com/recipes/recipe/1160/tenderloin-cranberry-and-pear-salad-with-honey-mustard-dressing', 'http://www.beefitswhatsfordinner.com/recipes/recipe/1501/steak-sugar-snap-pea-barley-salad', 'http://www.beefitswhatsfordinner.com/recipes/recipe/1731/beef-spring-rolls-with-carrots-and-cilantro', 'http://www.beefitswhatsfordinner.com/recipes/recipe/1732/simple-asian-beef-salad', 'http://www.beefitswhatsfordinner.com/recipes/recipe/1858/cumin-rubbed-steak-and-roasted-root-vegetable-salad', 'http://www.beefitswhatsfordinner.com/recipes/recipe/2290/steak-sugar-snap-pea-pasta-salad', 'http://www.beefitswhatsfordinner.com/recipes/recipe/2383/pomegranate-steak-with-quinoa', 'http://www.beefitswhatsfordinner.com/recipes/recipe/2417/treviso-fig-pear-steak-salad', 'http://www.beefitswhatsfordinner.com/recipes/recipe/101/beef-asparagus-pasta-toss', 'http://www.beefitswhatsfordinner.com/recipes/recipe/180/beef-tenderloin-steaks-with-blue-cheese-topping', 'http://www.beefitswhatsfordinner.com/recipes/recipe/409/caribbean-beef-burgers-with-mango-salsa', 'http://www.beefitswhatsfordinner.com/recipes/recipe/684/east-west-flank-steak-wraps', 'http://www.beefitswhatsfordinner.com/recipes/recipe/1829/mu-shu-steak-apple-wraps', 'http://www.beefitswhatsfordinner.com/recipes/recipe/1912/mediterranean-beef-and-salad-pita', 'http://www.beefitswhatsfordinner.com/recipes/recipe/2296/chimichurri-steak-wraps', 'http://www.beefitswhatsfordinner.com/recipes/recipe/2884/greek-style-beef-pita', 'http://www.beefitswhatsfordinner.com/recipes/recipe/3844/grilled-steak-and-fresh-mozzarella-flatbread', 'http://www.beefitswhatsfordinner.com/recipes/recipe/3847/mediterranean-beef-and-veggie-wraps', 'http://www.beefitswhatsfordinner.com/recipes/recipe/1089/beef-pinwheels', 'http://www.beefitswhatsfordinner.com/recipes/recipe/1655/picadillo-stuffed-jalapeno-peppers', 'http://www.beefitswhatsfordinner.com/recipes/recipe/1802/beef-skewers-with-garlicky-white-bean-dip', 'http://www.beefitswhatsfordinner.com/recipes/recipe/1967/mini-beef-tacos-with-citrus-salsa', 'http://www.beefitswhatsfordinner.com/recipes/recipe/1979/shredded-beef-and-blue-cheese-quesadillas', 'http://www.beefitswhatsfordinner.com/recipes/recipe/2118/spicy-buffalo-style-meatballs', 'http://www.beefitswhatsfordinner.com/recipes/recipe/2906/grilled-sirloin-crostini-with-wasabi-sour-cream', 'http://www.beefitswhatsfordinner.com/recipes/recipe/2945/itty-bitty-beef-bundles', 'http://www.beefitswhatsfordinner.com/recipes/recipe/2966/chinese-beef-pot-stickers-with-quartet-of-dipping-sauces', 'http://www.beefitswhatsfordinner.com/recipes/recipe/3294/tiny-taco-beef-tarts', 'http://www.beefitswhatsfordinner.com/recipes/recipe/273/chili-cilantro-marinade', 'http://www.beefitswhatsfordinner.com/recipes/recipe/275/cowboy-bbq-marinade-sauce', 'http://www.beefitswhatsfordinner.com/recipes/recipe/281/lemon-thyme-rub', 'http://www.beefitswhatsfordinner.com/recipes/recipe/317/peppery-dijon-parsley-rub', 'http://www.beefitswhatsfordinner.com/recipes/recipe/2271/lemon-oregano-steak-rub', 'http://www.beefitswhatsfordinner.com/recipes/recipe/2275/garlic-thyme-steak-rub', 'http://www.beefitswhatsfordinner.com/recipes/recipe/2289/garlic-thyme-steak-marinade', 'http://www.beefitswhatsfordinner.com/recipes/recipe/2978/argentinean-steak-marinade', 'http://www.beefitswhatsfordinner.com/recipes/recipe/3102/espresso-rub', 'http://www.beefitswhatsfordinner.com/recipes/recipe/3193/sesame-soy-marinade', 'http://www.beefitswhatsfordinner.com/recipes/recipe/192/spicy-portuguese-beef-steak-kabobs', 'http://www.beefitswhatsfordinner.com/recipes/recipe/1114/sirloin-sandwich-with-red-onion-dried-fruit-marmalade', 'http://www.beefitswhatsfordinner.com/recipes/recipe/1128/szechuan-beef-stir-fry', 'http://www.beefitswhatsfordinner.com/recipes/recipe/1139/three-mustard-beef-round-tip-with-roasted-baby-carrots-brussels-sprouts', 'http://www.beefitswhatsfordinner.com/recipes/recipe/1158/farmers-market-vegetable-beef-brown-rice-salad', 'http://www.beefitswhatsfordinner.com/recipes/recipe/1160/tenderloin-cranberry-and-pear-salad-with-honey-mustard-dressing', 'http://www.beefitswhatsfordinner.com/recipes/recipe/1167/beef-heirloom-tomato-salad-with-balsamic-syrup', 'http://www.beefitswhatsfordinner.com/recipes/recipe/1214/beef-pot-roast-with-maple-sweet-potatoes-and-cider-gravy', 'http://www.beefitswhatsfordinner.com/recipes/recipe/1229/dijon-wine-steak-kabobs-with-mushroom-wild-rice', 'http://www.beefitswhatsfordinner.com/recipes/recipe/1247/steak-with-ginger-plum-barbecue-sauce', 'http://www.beefitswhatsfordinner.com/recipes/recipe/1089/beef-pinwheels', 'http://www.beefitswhatsfordinner.com/recipes/recipe/1655/picadillo-stuffed-jalapeno-peppers', 'http://www.beefitswhatsfordinner.com/recipes/recipe/1776/easy-baked-beef-bean-and-corn-quesadillas', 'http://www.beefitswhatsfordinner.com/recipes/recipe/1802/beef-skewers-with-garlicky-white-bean-dip', 'http://www.beefitswhatsfordinner.com/recipes/recipe/1967/mini-beef-tacos-with-citrus-salsa', 'http://www.beefitswhatsfordinner.com/recipes/recipe/1979/shredded-beef-and-blue-cheese-quesadillas', 'http://www.beefitswhatsfordinner.com/recipes/recipe/2105/grilled-salsa-steak-appetizer', 'http://www.beefitswhatsfordinner.com/recipes/recipe/2118/spicy-buffalo-style-meatballs', 'http://www.beefitswhatsfordinner.com/recipes/recipe/2801/chilly-day-beef-chili', 'http://www.beefitswhatsfordinner.com/recipes/recipe/2945/itty-bitty-beef-bundles', 'http://www.beefitswhatsfordinner.com/recipes/recipe/15/wild-mushroom-beef-stew', 'http://www.beefitswhatsfordinner.com/recipes/recipe/999/beef-green-olive-stew', 'http://www.beefitswhatsfordinner.com/recipes/recipe/1236/slow-cooker-pot-roast-soup', 'http://www.beefitswhatsfordinner.com/recipes/recipe/1417/texas-bbq-beef-brisket', 'http://www.beefitswhatsfordinner.com/recipes/recipe/1648/chipotle-braised-short-ribs', 'http://www.beefitswhatsfordinner.com/recipes/recipe/1650/moroccan-beef-and-sweet-potato-stew', 'http://www.beefitswhatsfordinner.com/recipes/recipe/1725/irish-inspired-beef-pot-roast-and-vegetables', 'http://www.beefitswhatsfordinner.com/recipes/recipe/1726/mediterranean-beef-with-mixed-olives-and-feta', 'http://www.beefitswhatsfordinner.com/recipes/recipe/1727/slow-cooker-beef-short-ribs-with-ginger-mango-barbecue-sauce', 'http://www.beefitswhatsfordinner.com/recipes/recipe/2539/after-work-beef-pot-roast-dinner', 'http://www.beefitswhatsfordinner.com/recipes/recipe/1114/sirloin-sandwich-with-red-onion-dried-fruit-marmalade', 'http://www.beefitswhatsfordinner.com/recipes/recipe/1632/ribeye-steaks-with-blue-cheese-butter-and-mushrooms', 'http://www.beefitswhatsfordinner.com/recipes/recipe/1634/steak-and-grilled-corn-tortillas', 'http://www.beefitswhatsfordinner.com/recipes/recipe/2292/mexican-steak-soft-tacos', 'http://www.beefitswhatsfordinner.com/recipes/recipe/3894/beefy-sweet-potato-hash', 'http://www.beefitswhatsfordinner.com/recipes/recipe/3899/beef-and-spinach-breakfast-sandwich', 'http://www.beefitswhatsfordinner.com/recipes/recipe/3943/beef-steak-salad-with-dried-cherries', 'http://www.beefitswhatsfordinner.com/recipes/recipe/5821/sushi-style-beef-roll', 'http://www.beefitswhatsfordinner.com/recipes/recipe/5927/breakfast-brisket-tartine', 'http://www.beefitswhatsfordinner.com/recipes/recipe/6041/four-seasons-beef-and-brussels-sprout-chopped-salad', 'http://www.beefitswhatsfordinner.com/recipes/recipe/159/tenderloin-garlic-roasted-vegetables', 'http://www.beefitswhatsfordinner.com/recipes/recipe/246/meatloaf', 'http://www.beefitswhatsfordinner.com/recipes/recipe/1188/braised-short-ribs-with-red-wine-sauce', 'http://www.beefitswhatsfordinner.com/recipes/recipe/1349/bbq-rubbed-beef-roast', 'http://www.beefitswhatsfordinner.com/recipes/recipe/1417/texas-bbq-beef-brisket', 'http://www.beefitswhatsfordinner.com/recipes/recipe/1450/beef-tenderloin-with-easy-cranberry-balsamic-sauce', 'http://www.beefitswhatsfordinner.com/recipes/recipe/1653/brunch-beef-strata', 'http://www.beefitswhatsfordinner.com/recipes/recipe/1908/walnut-crusted-roast-with-blue-cheese-mashed-potatoes', 'http://www.beefitswhatsfordinner.com/recipes/recipe/2615/beef-and-veggie-frittata', 'http://www.beefitswhatsfordinner.com/recipes/recipe/2709/black-tie-beef-roast-with-chocolate-port-sauce-and-goat-cheese-mashed-potatoes', 'http://www.beefitswhatsfordinner.com/recipes/recipe/136/bistro-cheeseburgers', 'http://www.beefitswhatsfordinner.com/recipes/recipe/409/caribbean-beef-burgers-with-mango-salsa', 'http://www.beefitswhatsfordinner.com/recipes/recipe/975/firecracker-burgers-with-cooling-lime-sauce', 'http://www.beefitswhatsfordinner.com/recipes/recipe/1080/burgers-with-grilled-onions', 'http://www.beefitswhatsfordinner.com/recipes/recipe/1549/lean-mean-cheeseburger', 'http://www.beefitswhatsfordinner.com/recipes/recipe/1841/caprese-polenta-burgers', 'http://www.beefitswhatsfordinner.com/recipes/recipe/1910/calypso-beef-burgers', 'http://www.beefitswhatsfordinner.com/recipes/recipe/2411/olympian-burgers', 'http://www.beefitswhatsfordinner.com/recipes/recipe/3890/classic-beef-cheeseburgers', 'http://www.beefitswhatsfordinner.com/recipes/recipe/4655/thai-burger', 'http://www.beefitswhatsfordinner.com/recipes/recipe/46/beef-stir-fry-with-couscous', 'http://www.beefitswhatsfordinner.com/recipes/recipe/421/asian-beef-vegetable-stir-fry', 'http://www.beefitswhatsfordinner.com/recipes/recipe/651/stir-fry-beef-spinach-with-noodles', 'http://www.beefitswhatsfordinner.com/recipes/recipe/1128/szechuan-beef-stir-fry', 'http://www.beefitswhatsfordinner.com/recipes/recipe/3324/sumptuous-steak-stir-fry', 'http://www.beefitswhatsfordinner.com/recipes/recipe/5258/picadillo-style-beef-stir-fry', 'http://www.beefitswhatsfordinner.com/recipes/recipe/5295/steak-asparagus-walnut-stir-fry', 'http://www.beefitswhatsfordinner.com/recipes/recipe/5296/vegetable-mango-beef-stir-fry', 'http://www.beefitswhatsfordinner.com/recipes/recipe/6237/mongolian-beef', 'http://www.beefitswhatsfordinner.com/recipes/recipe/1341/kickin-cajun-dirty-rice', 'http://www.beefitswhatsfordinner.com/recipes/recipe/1780/wild-west-beef-hash', 'http://www.beefitswhatsfordinner.com/recipes/recipe/2851/easy-skillet-chili-mac', 'http://www.beefitswhatsfordinner.com/recipes/recipe/3840/beef-pasta-skillet-primavera', 'http://www.beefitswhatsfordinner.com/recipes/recipe/5242/mongolian-sloppy-joes', 'http://www.beefitswhatsfordinner.com/recipes/recipe/5416/spy-thai-beef', 'http://www.beefitswhatsfordinner.com/recipes/recipe/5698/one-dish-beef-stroganoff', 'http://www.beefitswhatsfordinner.com/recipes/recipe/5747/puerto-rican-beef-plantains-beef-mofongo', 'http://www.beefitswhatsfordinner.com/recipes/recipe/6036/sloppy-joe-five-ways', 'http://www.beefitswhatsfordinner.com/recipes/recipe/1236/slow-cooker-pot-roast-soup', 'http://www.beefitswhatsfordinner.com/recipes/recipe/1338/cowboy-beef-stew', 'http://www.beefitswhatsfordinner.com/recipes/recipe/1540/zippy-beef-alphabet-soup', 'http://www.beefitswhatsfordinner.com/recipes/recipe/1650/moroccan-beef-and-sweet-potato-stew', 'http://www.beefitswhatsfordinner.com/recipes/recipe/1711/autumn-beef-and-cider-stew', 'http://www.beefitswhatsfordinner.com/recipes/recipe/1836/calypso-beef-soup', 'http://www.beefitswhatsfordinner.com/recipes/recipe/1909/beefy-french-onion-soup', 'http://www.beefitswhatsfordinner.com/recipes/recipe/2618/beef-barley-soup-with-spinach', 'http://www.beefitswhatsfordinner.com/recipes/recipe/2939/italian-beef-and-bean-stew', 'http://www.beefitswhatsfordinner.com/recipes/recipe/4446/lazy-day-beef-vegetable-soup', 'http://www.beefitswhatsfordinner.com/recipes/recipe/777/open-face-roast-beef-crunchy-vegetables', 'http://www.beefitswhatsfordinner.com/recipes/recipe/3408/vietnamese-beef-vegetable-spring-rolls', 'http://www.beefitswhatsfordinner.com/recipes/recipe/3847/mediterranean-beef-and-veggie-wraps', 'http://www.beefitswhatsfordinner.com/recipes/recipe/3899/beef-and-spinach-breakfast-sandwich', 'http://www.beefitswhatsfordinner.com/recipes/recipe/3906/beef-and-cream-cheese-bagelwich', 'http://www.beefitswhatsfordinner.com/recipes/recipe/4551/corned-beef-hash', 'http://www.beefitswhatsfordinner.com/recipes/recipe/4711/roast-beef-veggie-wraps', 'http://www.beefitswhatsfordinner.com/recipes/recipe/5743/chicago-style-italian-beef-sandwiches', 'http://www.beefitswhatsfordinner.com/recipes/recipe/6052/reuben-bite', 'http://www.beefitswhatsfordinner.com/recipes/recipe/6078/deli-burgers', 'http://www.beefitswhatsfordinner.com/recipes/recipe/127/confetti-beef-tacos', 'http://www.beefitswhatsfordinner.com/recipes/recipe/132/spaghetti-savory-meatballs', 'http://www.beefitswhatsfordinner.com/recipes/recipe/988/beefy-p-b-j-wraps', 'http://www.beefitswhatsfordinner.com/recipes/recipe/1344/lazy-beef-lasagna', 'http://www.beefitswhatsfordinner.com/recipes/recipe/1825/buffalo-style-beef-tacos', 'http://www.beefitswhatsfordinner.com/recipes/recipe/1828/hoisin-bbq-kabobs-with-pineapple-salsa', 'http://www.beefitswhatsfordinner.com/recipes/recipe/1829/mu-shu-steak-apple-wraps', 'http://www.beefitswhatsfordinner.com/recipes/recipe/2884/greek-style-beef-pita', 'http://www.beefitswhatsfordinner.com/recipes/recipe/3241/beef-and-cheese-tortilla-towers', 'http://www.beefitswhatsfordinner.com/recipes/recipe/3267/southwest-beef-wraps', 'http://www.beefitswhatsfordinner.com/recipes/recipe/721/santa-fe-corn-chili', 'http://www.beefitswhatsfordinner.com/recipes/recipe/984/skillet-chili-beef-with-corn-biscuits', 'http://www.beefitswhatsfordinner.com/recipes/recipe/1269/cowboy-beef-and-black-bean-chili', 'http://www.beefitswhatsfordinner.com/recipes/recipe/1440/chunky-beef-chili', 'http://www.beefitswhatsfordinner.com/recipes/recipe/2801/chilly-day-beef-chili', 'http://www.beefitswhatsfordinner.com/recipes/recipe/2851/easy-skillet-chili-mac', 'http://www.beefitswhatsfordinner.com/recipes/recipe/3208/smoky-chipotle-chili', 'http://www.beefitswhatsfordinner.com/recipes/recipe/3321/beef-chili-carnivale', 'http://www.beefitswhatsfordinner.com/recipes/recipe/3998/simple-beef-and-brew-chili', 'http://www.beefitswhatsfordinner.com/recipes/recipe/5414/wranglers-beef-chili', 'http://www.beefitswhatsfordinner.com/recipes/recipe/741/grilled-t-bone-steaks-with-bbq-rub', 'http://www.beefitswhatsfordinner.com/recipes/recipe/1349/bbq-rubbed-beef-roast', 'http://www.beefitswhatsfordinner.com/recipes/recipe/1353/bbq-beef-skillet-with-cornbread', 'http://www.beefitswhatsfordinner.com/recipes/recipe/1417/texas-bbq-beef-brisket', 'http://www.beefitswhatsfordinner.com/recipes/recipe/1828/hoisin-bbq-kabobs-with-pineapple-salsa', 'http://www.beefitswhatsfordinner.com/recipes/recipe/3196/shredded-beef-filling-two-ways', 'http://www.beefitswhatsfordinner.com/recipes/recipe/3761/bbq-beef-biscuit-sliders', 'http://www.beefitswhatsfordinner.com/recipes/recipe/5071/zesty-bbq-cheeseburgers', 'http://www.beefitswhatsfordinner.com/recipes/recipe/6079/carolina-barbecue-burgers', 'http://www.beefitswhatsfordinner.com/recipes/recipe/6085/barbecue-chipotle-burgers']\n"
     ]
    }
   ],
   "source": [
    "# urlMain = 'http://www.beefitswhatsfordinner.com'\n",
    "# urlRC =  'http://www.beefitswhatsfordinner.com/recipes/collection'\n",
    "# recipeList = []\n",
    "\n",
    "# recipeCollection = [urlRC + '/10002/grilling-favorites',\n",
    "#                     urlRC + '/10008/not-your-average-salad',\n",
    "#                     urlRC + '/10009/30-minutes-or-less',\n",
    "#                     urlRC + '/10011/appetizers-worth-sharing',\n",
    "#                     urlRC + '/10014/flavor-boosting-rubs-marinades',\n",
    "#                     urlRC + '/10018/well-balanced-meals',\n",
    "#                     urlRC + '/10030/tailgating-treasures',\n",
    "#                     urlRC + '/10032/slow-cooker-comforts',\n",
    "#                     urlRC + '/10033/so-long-leftovers',\n",
    "#                     urlRC + '/10034/recipes-for-a-crowd',\n",
    "#                     urlRC + '/10039/the-tastiest-burgers',\n",
    "#                     urlRC + '/10044/savory-stir-fry',\n",
    "#                     urlRC + '/10045/meals-in-the-skillet',\n",
    "#                     urlRC + '/10049/more-soup-for-you',\n",
    "#                     urlRC + '/10052/from-the-deli',\n",
    "#                     urlRC + '/10058/kid-friendly-fare',\n",
    "#                     urlRC + '/10061/gotta-try-beef-chilis',\n",
    "#                     urlRC + '/10070/bbq-for-you']"
   ]
  },
  {
   "cell_type": "code",
   "execution_count": 18,
   "metadata": {
    "collapsed": true
   },
   "outputs": [],
   "source": [
    "def findHTML(recipeCollection):\n",
    "    recipeList = []\n",
    "    urlMain = 'http://www.beefitswhatsfordinner.com'\n",
    "    for page in recipeCollection:\n",
    "        with urllib.request.urlopen(page) as url:\n",
    "            page = url.read()  \n",
    "            parsed_page = BeautifulSoup(page, 'lxml')\n",
    "            menu_box = parsed_page.findAll('div', attrs={'class': 'col-sm-4 col-md-6 recipe-img'})\n",
    "            for div in menu_box:\n",
    "                links = div.findAll('a')\n",
    "                for a in links:\n",
    "                    try:\n",
    "                        recipeList.append(urlMain + a['href'])\n",
    "                    except KeyError:\n",
    "                        pass\n",
    "    return recipeList"
   ]
  },
  {
   "cell_type": "code",
   "execution_count": 4,
   "metadata": {
    "collapsed": true
   },
   "outputs": [],
   "source": [
    "# for page in recipeCollection:\n",
    "#     with urllib.request.urlopen(page) as url:\n",
    "#         page = url.read()  \n",
    "#         parsed_page = BeautifulSoup(page, 'lxml')\n",
    "#         menu_box = parsed_page.findAll('div', attrs={'class': 'col-sm-4 col-md-6 recipe-img'})\n",
    "#         for div in menu_box:\n",
    "#             links = div.findAll('a')\n",
    "#             for a in links:\n",
    "#                 try:\n",
    "#                     recipeList.append(urlMain + a['href'])\n",
    "#                 except KeyError:\n",
    "#                     pass"
   ]
  },
  {
   "cell_type": "code",
   "execution_count": 19,
   "metadata": {
    "collapsed": true
   },
   "outputs": [],
   "source": [
    "def createDF(recipeList):    \n",
    "    ingredientList = []\n",
    "    recipeName = []\n",
    "    recipeURL = []\n",
    "\n",
    "    #scrapes each link which contains a recipe for ingredients and recipe name\n",
    "    for link in recipeList:\n",
    "        with urllib.request.urlopen(link) as url:\n",
    "            page = url.read()  \n",
    "            parsed_page = BeautifulSoup(page, 'lxml')\n",
    "            name = ''\n",
    "\n",
    "            #grabs the title of the current recipe\n",
    "            menu_title = parsed_page.findAll('li', attrs={'class': 'current'})\n",
    "            for div in menu_title:\n",
    "                name = div.text.strip()\n",
    "\n",
    "            #grabs all of the ingredients in the current recipe\n",
    "            menu_box = parsed_page.findAll('li', attrs={'itemprop': 'ingredients'})\n",
    "            for div in menu_box:\n",
    "\n",
    "                #removes all words after a comma\n",
    "                item = div.text.strip().split(',', 1)[0]\n",
    "\n",
    "                #removes the word '(optional)' which appears next to some ingredients\n",
    "                item = item.split('(', 1)[0]\n",
    "\n",
    "                #add url, recipe, and ingredient to their corresponding list\n",
    "                ingredientList.append(item.lower())\n",
    "                recipeURL.append(link.lower())\n",
    "                recipeName.append(name.lower())\n",
    "                \n",
    "    return [ingredientList, recipeName, recipeURL]"
   ]
  },
  {
   "cell_type": "code",
   "execution_count": 5,
   "metadata": {
    "collapsed": true
   },
   "outputs": [],
   "source": [
    "# ingredientList = []\n",
    "# recipeName = []\n",
    "# recipeURL = []\n",
    "\n",
    "# #scrapes each link which contains a recipe for ingredients and recipe name\n",
    "# for link in recipeList:\n",
    "#     with urllib.request.urlopen(link) as url:\n",
    "#         page = url.read()  \n",
    "#         parsed_page = BeautifulSoup(page, 'lxml')\n",
    "#         name = ''\n",
    "        \n",
    "#         #grabs the title of the current recipe\n",
    "#         menu_title = parsed_page.findAll('li', attrs={'class': 'current'})\n",
    "#         for div in menu_title:\n",
    "#             name = div.text.strip()\n",
    "            \n",
    "#         #grabs all of the ingredients in the current recipe\n",
    "#         menu_box = parsed_page.findAll('li', attrs={'itemprop': 'ingredients'})\n",
    "#         for div in menu_box:\n",
    "            \n",
    "#             #removes all words after a comma\n",
    "#             item = div.text.strip().split(',', 1)[0]\n",
    "            \n",
    "#             #removes the word '(optional)' which appears next to some ingredients\n",
    "#             item = item.split('(', 1)[0]\n",
    "            \n",
    "#             #add url, recipe, and ingredient to their corresponding list\n",
    "#             ingredientList.append(item.lower())\n",
    "#             recipeURL.append(link.lower())\n",
    "#             recipeName.append(name.lower())\n",
    "        \n",
    "       "
   ]
  },
  {
   "cell_type": "code",
   "execution_count": 6,
   "metadata": {
    "collapsed": true
   },
   "outputs": [],
   "source": []
  },
  {
   "cell_type": "code",
   "execution_count": null,
   "metadata": {
    "collapsed": true
   },
   "outputs": [],
   "source": [
    "# rawData = pd.DataFrame(\n",
    "#     {'url': recipeURL,\n",
    "#      'name': recipeName,\n",
    "#      'ingredient': ingredientList\n",
    "#     })\n",
    "\n",
    "# rawData.to_csv('SUN_info370_assignment1_rawData.csv')"
   ]
  },
  {
   "cell_type": "code",
   "execution_count": null,
   "metadata": {
    "collapsed": true
   },
   "outputs": [],
   "source": []
  },
  {
   "cell_type": "code",
   "execution_count": null,
   "metadata": {
    "collapsed": true
   },
   "outputs": [],
   "source": []
  }
 ],
 "metadata": {
  "kernelspec": {
   "display_name": "Python 3",
   "language": "python",
   "name": "python3"
  },
  "language_info": {
   "codemirror_mode": {
    "name": "ipython",
    "version": 3
   },
   "file_extension": ".py",
   "mimetype": "text/x-python",
   "name": "python",
   "nbconvert_exporter": "python",
   "pygments_lexer": "ipython3",
   "version": "3.6.1"
  }
 },
 "nbformat": 4,
 "nbformat_minor": 2
}
