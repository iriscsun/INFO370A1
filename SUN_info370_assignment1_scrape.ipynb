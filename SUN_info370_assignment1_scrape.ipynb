{
 "cells": [
  {
   "cell_type": "code",
   "execution_count": 4,
   "metadata": {
    "collapsed": true
   },
   "outputs": [],
   "source": []
  },
  {
   "cell_type": "code",
   "execution_count": 11,
   "metadata": {
    "collapsed": true
   },
   "outputs": [],
   "source": [
    "#scrapes the website beefitswhatsfordinner for recipe information\n",
    "def scrape():\n",
    "    \n",
    "    #import required libraries\n",
    "    import urllib.request\n",
    "    import pandas as pd\n",
    "    import re\n",
    "    from bs4 import BeautifulSoup\n",
    "    \n",
    "    urlRC =  'http://www.beefitswhatsfordinner.com/recipes/collection'\n",
    "    \n",
    "    #list of links for different grenres of recipes\n",
    "    recipeCollection = [urlRC + '/10002/grilling-favorites',\n",
    "                        urlRC + '/10008/not-your-average-salad',\n",
    "                        urlRC + '/10009/30-minutes-or-less',\n",
    "                        urlRC + '/10011/appetizers-worth-sharing',\n",
    "                        urlRC + '/10014/flavor-boosting-rubs-marinades',\n",
    "                        urlRC + '/10018/well-balanced-meals',\n",
    "                        urlRC + '/10030/tailgating-treasures',\n",
    "                        urlRC + '/10032/slow-cooker-comforts',\n",
    "                        urlRC + '/10033/so-long-leftovers',\n",
    "                        urlRC + '/10034/recipes-for-a-crowd',\n",
    "                        urlRC + '/10039/the-tastiest-burgers',\n",
    "                        urlRC + '/10044/savory-stir-fry',\n",
    "                        urlRC + '/10045/meals-in-the-skillet',\n",
    "                        urlRC + '/10049/more-soup-for-you',\n",
    "                        urlRC + '/10052/from-the-deli',\n",
    "                        urlRC + '/10058/kid-friendly-fare',\n",
    "                        urlRC + '/10061/gotta-try-beef-chilis',\n",
    "                        urlRC + '/10070/bbq-for-you']\n",
    "    #calls findHTML to get a list of recipe links to scrape\n",
    "    recipeList = findHTML(recipeCollection)\n",
    "    \n",
    "    #calls createDF to get a dataframe containing recipe name, url, and ingredients\n",
    "    rawData = createDF(recipeList)\n",
    "    \n",
    "    #exports rawData to csv\n",
    "    rawData.to_csv('SUN_info370_assignment1_rawData.csv')"
   ]
  },
  {
   "cell_type": "code",
   "execution_count": 9,
   "metadata": {
    "collapsed": true
   },
   "outputs": [],
   "source": [
    "#finds all of the html links for recipes that need to be scraped and returns a list holding all of the links\n",
    "def findHTML(recipeCollection):\n",
    "    \n",
    "    #initizlize empty list to store html links of recipes that will be used\n",
    "    recipeList = []\n",
    "    urlMain = 'http://www.beefitswhatsfordinner.com'\n",
    "    \n",
    "    #scrapes recipeCollection which is a list of links for different genres of recipes\n",
    "    for page in recipeCollection:\n",
    "        with urllib.request.urlopen(page) as url:\n",
    "            \n",
    "            #opens url for current page in recipeCollection to scrape\n",
    "            page = url.read()  \n",
    "            parsed_page = BeautifulSoup(page, 'lxml')\n",
    "            \n",
    "            #finds every div that matches the specified class to grab the url for a specific recipe\n",
    "            menu_box = parsed_page.findAll('div', attrs={'class': 'col-sm-4 col-md-6 recipe-img'})\n",
    "            \n",
    "            #takes only the url from the menu_box and adds it to the list of recipes\n",
    "            for div in menu_box:\n",
    "                links = div.findAll('a')\n",
    "                for a in links:\n",
    "                    try:\n",
    "                        recipeList.append(urlMain + a['href'])\n",
    "                    except KeyError:\n",
    "                        pass\n",
    "    return recipeList"
   ]
  },
  {
   "cell_type": "code",
   "execution_count": 10,
   "metadata": {
    "collapsed": true
   },
   "outputs": [],
   "source": [
    "#takes in a list of links as recipeList, returns a list holding a list of ingredients, \n",
    "#creates a dataframe from that holds the recipe name, url, and ingredients used in the recipe\n",
    "def createDF(recipeList):    \n",
    "    ingredientList = []\n",
    "    recipeName = []\n",
    "    recipeURL = []\n",
    "\n",
    "    #scrapes each link which contains a recipe for ingredients and recipe name\n",
    "    for link in recipeList:\n",
    "        with urllib.request.urlopen(link) as url:\n",
    "            page = url.read()  \n",
    "            parsed_page = BeautifulSoup(page, 'lxml')\n",
    "            name = ''\n",
    "\n",
    "            #grabs the title of the current recipe\n",
    "            menu_title = parsed_page.findAll('li', attrs={'class': 'current'})\n",
    "            for div in menu_title:\n",
    "                \n",
    "                #strips html tags from recipe name\n",
    "                name = div.text.strip()\n",
    "\n",
    "            #grabs all of the ingredients in the current recipe\n",
    "            menu_box = parsed_page.findAll('li', attrs={'itemprop': 'ingredients'})\n",
    "            for div in menu_box:\n",
    "                \n",
    "                #strips html tags from ingredient\n",
    "                item = div.text.strip()\n",
    "\n",
    "                #add url, recipe, and ingredient to their corresponding list\n",
    "                recipeURL.append(link.lower())\n",
    "                recipeName.append(name.lower())\n",
    "                ingredientList.append(item.lower())\n",
    "    \n",
    "    #creates dataframe with columns holding recipe url, name, and ingredient\n",
    "    rawData = pd.DataFrame(\n",
    "        {'url': recipeURL,\n",
    "        'name': recipeName,\n",
    "        'ingredient': ingredientList\n",
    "        })\n",
    "    return rawData"
   ]
  },
  {
   "cell_type": "code",
   "execution_count": null,
   "metadata": {
    "collapsed": true
   },
   "outputs": [],
   "source": []
  }
 ],
 "metadata": {
  "kernelspec": {
   "display_name": "Python 3",
   "language": "python",
   "name": "python3"
  },
  "language_info": {
   "codemirror_mode": {
    "name": "ipython",
    "version": 3
   },
   "file_extension": ".py",
   "mimetype": "text/x-python",
   "name": "python",
   "nbconvert_exporter": "python",
   "pygments_lexer": "ipython3",
   "version": "3.6.1"
  }
 },
 "nbformat": 4,
 "nbformat_minor": 2
}
